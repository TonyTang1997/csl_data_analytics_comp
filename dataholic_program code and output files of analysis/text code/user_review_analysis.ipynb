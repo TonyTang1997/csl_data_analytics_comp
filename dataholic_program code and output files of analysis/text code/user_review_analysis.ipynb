{
 "cells": [
  {
   "cell_type": "markdown",
   "metadata": {},
   "source": [
    "## Dependencies"
   ]
  },
  {
   "cell_type": "code",
   "execution_count": 1,
   "metadata": {},
   "outputs": [
    {
     "name": "stdout",
     "output_type": "stream",
     "text": [
      "Requirement already satisfied: spacy in c:\\users\\chan ho park\\anaconda3\\lib\\site-packages (2.1.8)\n",
      "Requirement already satisfied: requests<3.0.0,>=2.13.0 in c:\\users\\chan ho park\\anaconda3\\lib\\site-packages (from spacy) (2.21.0)\n",
      "Requirement already satisfied: wasabi<1.1.0,>=0.2.0 in c:\\users\\chan ho park\\anaconda3\\lib\\site-packages (from spacy) (0.2.2)\n",
      "Requirement already satisfied: srsly<1.1.0,>=0.0.6 in c:\\users\\chan ho park\\anaconda3\\lib\\site-packages (from spacy) (0.1.0)\n",
      "Requirement already satisfied: thinc<7.1.0,>=7.0.8 in c:\\users\\chan ho park\\anaconda3\\lib\\site-packages (from spacy) (7.0.8)\n",
      "Requirement already satisfied: cymem<2.1.0,>=2.0.2 in c:\\users\\chan ho park\\anaconda3\\lib\\site-packages (from spacy) (2.0.2)\n",
      "Requirement already satisfied: preshed<2.1.0,>=2.0.1 in c:\\users\\chan ho park\\anaconda3\\lib\\site-packages (from spacy) (2.0.1)\n",
      "Requirement already satisfied: murmurhash<1.1.0,>=0.28.0 in c:\\users\\chan ho park\\anaconda3\\lib\\site-packages (from spacy) (1.0.2)\n",
      "Requirement already satisfied: numpy>=1.15.0 in c:\\users\\chan ho park\\anaconda3\\lib\\site-packages (from spacy) (1.16.3)\n",
      "Requirement already satisfied: blis<0.3.0,>=0.2.2 in c:\\users\\chan ho park\\anaconda3\\lib\\site-packages (from spacy) (0.2.4)\n",
      "Requirement already satisfied: plac<1.0.0,>=0.9.6 in c:\\users\\chan ho park\\anaconda3\\lib\\site-packages (from spacy) (0.9.6)\n",
      "Requirement already satisfied: urllib3<1.25,>=1.21.1 in c:\\users\\chan ho park\\anaconda3\\lib\\site-packages (from requests<3.0.0,>=2.13.0->spacy) (1.24.1)\n",
      "Requirement already satisfied: idna<2.9,>=2.5 in c:\\users\\chan ho park\\anaconda3\\lib\\site-packages (from requests<3.0.0,>=2.13.0->spacy) (2.8)\n",
      "Requirement already satisfied: chardet<3.1.0,>=3.0.2 in c:\\users\\chan ho park\\anaconda3\\lib\\site-packages (from requests<3.0.0,>=2.13.0->spacy) (3.0.4)\n",
      "Requirement already satisfied: certifi>=2017.4.17 in c:\\users\\chan ho park\\anaconda3\\lib\\site-packages (from requests<3.0.0,>=2.13.0->spacy) (2018.11.29)\n",
      "Requirement already satisfied: tqdm<5.0.0,>=4.10.0 in c:\\users\\chan ho park\\anaconda3\\lib\\site-packages (from thinc<7.1.0,>=7.0.8->spacy) (4.28.1)\n",
      "Requirement already satisfied: en_core_web_sm==2.1.0 from https://github.com/explosion/spacy-models/releases/download/en_core_web_sm-2.1.0/en_core_web_sm-2.1.0.tar.gz#egg=en_core_web_sm==2.1.0 in c:\\users\\chan ho park\\anaconda3\\lib\\site-packages (2.1.0)\n",
      "[+] Download and installation successful\n",
      "You can now load the model via spacy.load('en_core_web_sm')\n"
     ]
    }
   ],
   "source": [
    "!pip install spacy\n",
    "!python -m spacy download en_core_web_sm"
   ]
  },
  {
   "cell_type": "code",
   "execution_count": 5,
   "metadata": {},
   "outputs": [],
   "source": [
    "import numpy as np \n",
    "import pandas as pd\n",
    "\n",
    "df = pd.read_csv('./review2.csv')\n"
   ]
  },
  {
   "cell_type": "code",
   "execution_count": 4,
   "metadata": {},
   "outputs": [
    {
     "data": {
      "text/html": [
       "<div>\n",
       "<style scoped>\n",
       "    .dataframe tbody tr th:only-of-type {\n",
       "        vertical-align: middle;\n",
       "    }\n",
       "\n",
       "    .dataframe tbody tr th {\n",
       "        vertical-align: top;\n",
       "    }\n",
       "\n",
       "    .dataframe thead th {\n",
       "        text-align: right;\n",
       "    }\n",
       "</style>\n",
       "<table border=\"1\" class=\"dataframe\">\n",
       "  <thead>\n",
       "    <tr style=\"text-align: right;\">\n",
       "      <th></th>\n",
       "      <th>Unnamed: 0</th>\n",
       "      <th>Unnamed: 0.1</th>\n",
       "      <th>Unnamed: 0.1.1</th>\n",
       "      <th>Unnamed: 0.1.1.1</th>\n",
       "      <th>Unnamed: 0.1.1.1.1</th>\n",
       "      <th>listing_id</th>\n",
       "      <th>id</th>\n",
       "      <th>reviewer_id</th>\n",
       "      <th>negCount</th>\n",
       "      <th>posCount</th>\n",
       "      <th>...</th>\n",
       "      <th>month</th>\n",
       "      <th>1</th>\n",
       "      <th>cluster</th>\n",
       "      <th>bad</th>\n",
       "      <th>small</th>\n",
       "      <th>dirty</th>\n",
       "      <th>unfriend</th>\n",
       "      <th>far</th>\n",
       "      <th>inconvenient</th>\n",
       "      <th>disappoint</th>\n",
       "    </tr>\n",
       "  </thead>\n",
       "  <tbody>\n",
       "    <tr>\n",
       "      <th>count</th>\n",
       "      <td>262515.000000</td>\n",
       "      <td>262515.000000</td>\n",
       "      <td>262515.000000</td>\n",
       "      <td>262515.000000</td>\n",
       "      <td>262515.000000</td>\n",
       "      <td>2.625150e+05</td>\n",
       "      <td>2.625150e+05</td>\n",
       "      <td>2.625150e+05</td>\n",
       "      <td>149986.000000</td>\n",
       "      <td>149986.000000</td>\n",
       "      <td>...</td>\n",
       "      <td>262515.000000</td>\n",
       "      <td>262515.0</td>\n",
       "      <td>262515.000000</td>\n",
       "      <td>6074.000000</td>\n",
       "      <td>6074.000000</td>\n",
       "      <td>6064.000000</td>\n",
       "      <td>6074.000000</td>\n",
       "      <td>6074.000000</td>\n",
       "      <td>6074.000000</td>\n",
       "      <td>5710.000000</td>\n",
       "    </tr>\n",
       "    <tr>\n",
       "      <th>mean</th>\n",
       "      <td>131257.000000</td>\n",
       "      <td>131257.000000</td>\n",
       "      <td>131257.000000</td>\n",
       "      <td>131257.000000</td>\n",
       "      <td>131257.000000</td>\n",
       "      <td>1.472952e+07</td>\n",
       "      <td>2.583727e+08</td>\n",
       "      <td>9.754595e+07</td>\n",
       "      <td>0.382722</td>\n",
       "      <td>16.936061</td>\n",
       "      <td>...</td>\n",
       "      <td>6.293743</td>\n",
       "      <td>1.0</td>\n",
       "      <td>2.055894</td>\n",
       "      <td>0.572111</td>\n",
       "      <td>0.698317</td>\n",
       "      <td>0.547674</td>\n",
       "      <td>0.583275</td>\n",
       "      <td>0.473090</td>\n",
       "      <td>0.538458</td>\n",
       "      <td>0.455652</td>\n",
       "    </tr>\n",
       "    <tr>\n",
       "      <th>std</th>\n",
       "      <td>75781.697296</td>\n",
       "      <td>75781.697296</td>\n",
       "      <td>75781.697296</td>\n",
       "      <td>75781.697296</td>\n",
       "      <td>75781.697296</td>\n",
       "      <td>9.185873e+06</td>\n",
       "      <td>1.345129e+08</td>\n",
       "      <td>7.347709e+07</td>\n",
       "      <td>0.861560</td>\n",
       "      <td>32.402831</td>\n",
       "      <td>...</td>\n",
       "      <td>3.519262</td>\n",
       "      <td>0.0</td>\n",
       "      <td>2.026812</td>\n",
       "      <td>0.189390</td>\n",
       "      <td>0.269093</td>\n",
       "      <td>0.150247</td>\n",
       "      <td>0.139337</td>\n",
       "      <td>0.160680</td>\n",
       "      <td>0.146171</td>\n",
       "      <td>0.194084</td>\n",
       "    </tr>\n",
       "    <tr>\n",
       "      <th>min</th>\n",
       "      <td>0.000000</td>\n",
       "      <td>0.000000</td>\n",
       "      <td>0.000000</td>\n",
       "      <td>0.000000</td>\n",
       "      <td>0.000000</td>\n",
       "      <td>6.907400e+04</td>\n",
       "      <td>1.819730e+05</td>\n",
       "      <td>1.000000e+00</td>\n",
       "      <td>0.000000</td>\n",
       "      <td>0.000000</td>\n",
       "      <td>...</td>\n",
       "      <td>1.000000</td>\n",
       "      <td>1.0</td>\n",
       "      <td>-1.000000</td>\n",
       "      <td>0.260001</td>\n",
       "      <td>0.105960</td>\n",
       "      <td>0.164445</td>\n",
       "      <td>0.238607</td>\n",
       "      <td>0.128633</td>\n",
       "      <td>0.125858</td>\n",
       "      <td>0.084054</td>\n",
       "    </tr>\n",
       "    <tr>\n",
       "      <th>25%</th>\n",
       "      <td>65628.500000</td>\n",
       "      <td>65628.500000</td>\n",
       "      <td>65628.500000</td>\n",
       "      <td>65628.500000</td>\n",
       "      <td>65628.500000</td>\n",
       "      <td>6.510588e+06</td>\n",
       "      <td>1.438862e+08</td>\n",
       "      <td>3.253050e+07</td>\n",
       "      <td>0.000000</td>\n",
       "      <td>2.000000</td>\n",
       "      <td>...</td>\n",
       "      <td>3.000000</td>\n",
       "      <td>1.0</td>\n",
       "      <td>0.000000</td>\n",
       "      <td>0.445853</td>\n",
       "      <td>0.431451</td>\n",
       "      <td>0.424290</td>\n",
       "      <td>0.500513</td>\n",
       "      <td>0.352454</td>\n",
       "      <td>0.431240</td>\n",
       "      <td>0.279815</td>\n",
       "    </tr>\n",
       "    <tr>\n",
       "      <th>50%</th>\n",
       "      <td>131257.000000</td>\n",
       "      <td>131257.000000</td>\n",
       "      <td>131257.000000</td>\n",
       "      <td>131257.000000</td>\n",
       "      <td>131257.000000</td>\n",
       "      <td>1.497335e+07</td>\n",
       "      <td>2.559325e+08</td>\n",
       "      <td>8.344531e+07</td>\n",
       "      <td>0.000000</td>\n",
       "      <td>4.000000</td>\n",
       "      <td>...</td>\n",
       "      <td>6.000000</td>\n",
       "      <td>1.0</td>\n",
       "      <td>2.000000</td>\n",
       "      <td>0.491764</td>\n",
       "      <td>0.794579</td>\n",
       "      <td>0.529286</td>\n",
       "      <td>0.570642</td>\n",
       "      <td>0.423641</td>\n",
       "      <td>0.538031</td>\n",
       "      <td>0.415589</td>\n",
       "    </tr>\n",
       "    <tr>\n",
       "      <th>75%</th>\n",
       "      <td>196885.500000</td>\n",
       "      <td>196885.500000</td>\n",
       "      <td>196885.500000</td>\n",
       "      <td>196885.500000</td>\n",
       "      <td>196885.500000</td>\n",
       "      <td>2.175791e+07</td>\n",
       "      <td>3.635510e+08</td>\n",
       "      <td>1.526123e+08</td>\n",
       "      <td>0.000000</td>\n",
       "      <td>8.000000</td>\n",
       "      <td>...</td>\n",
       "      <td>10.000000</td>\n",
       "      <td>1.0</td>\n",
       "      <td>4.000000</td>\n",
       "      <td>0.659974</td>\n",
       "      <td>0.946757</td>\n",
       "      <td>0.647793</td>\n",
       "      <td>0.681905</td>\n",
       "      <td>0.561087</td>\n",
       "      <td>0.617340</td>\n",
       "      <td>0.598342</td>\n",
       "    </tr>\n",
       "    <tr>\n",
       "      <th>max</th>\n",
       "      <td>262514.000000</td>\n",
       "      <td>262514.000000</td>\n",
       "      <td>262514.000000</td>\n",
       "      <td>262514.000000</td>\n",
       "      <td>262514.000000</td>\n",
       "      <td>3.641146e+07</td>\n",
       "      <td>4.865819e+08</td>\n",
       "      <td>2.751997e+08</td>\n",
       "      <td>18.000000</td>\n",
       "      <td>100.000000</td>\n",
       "      <td>...</td>\n",
       "      <td>12.000000</td>\n",
       "      <td>1.0</td>\n",
       "      <td>5.000000</td>\n",
       "      <td>1.000000</td>\n",
       "      <td>0.999943</td>\n",
       "      <td>0.998729</td>\n",
       "      <td>0.994167</td>\n",
       "      <td>0.987323</td>\n",
       "      <td>0.998515</td>\n",
       "      <td>0.997396</td>\n",
       "    </tr>\n",
       "  </tbody>\n",
       "</table>\n",
       "<p>8 rows × 21 columns</p>\n",
       "</div>"
      ],
      "text/plain": [
       "          Unnamed: 0   Unnamed: 0.1  Unnamed: 0.1.1  Unnamed: 0.1.1.1  \\\n",
       "count  262515.000000  262515.000000   262515.000000     262515.000000   \n",
       "mean   131257.000000  131257.000000   131257.000000     131257.000000   \n",
       "std     75781.697296   75781.697296    75781.697296      75781.697296   \n",
       "min         0.000000       0.000000        0.000000          0.000000   \n",
       "25%     65628.500000   65628.500000    65628.500000      65628.500000   \n",
       "50%    131257.000000  131257.000000   131257.000000     131257.000000   \n",
       "75%    196885.500000  196885.500000   196885.500000     196885.500000   \n",
       "max    262514.000000  262514.000000   262514.000000     262514.000000   \n",
       "\n",
       "       Unnamed: 0.1.1.1.1    listing_id            id   reviewer_id  \\\n",
       "count       262515.000000  2.625150e+05  2.625150e+05  2.625150e+05   \n",
       "mean        131257.000000  1.472952e+07  2.583727e+08  9.754595e+07   \n",
       "std          75781.697296  9.185873e+06  1.345129e+08  7.347709e+07   \n",
       "min              0.000000  6.907400e+04  1.819730e+05  1.000000e+00   \n",
       "25%          65628.500000  6.510588e+06  1.438862e+08  3.253050e+07   \n",
       "50%         131257.000000  1.497335e+07  2.559325e+08  8.344531e+07   \n",
       "75%         196885.500000  2.175791e+07  3.635510e+08  1.526123e+08   \n",
       "max         262514.000000  3.641146e+07  4.865819e+08  2.751997e+08   \n",
       "\n",
       "            negCount       posCount     ...               month         1  \\\n",
       "count  149986.000000  149986.000000     ...       262515.000000  262515.0   \n",
       "mean        0.382722      16.936061     ...            6.293743       1.0   \n",
       "std         0.861560      32.402831     ...            3.519262       0.0   \n",
       "min         0.000000       0.000000     ...            1.000000       1.0   \n",
       "25%         0.000000       2.000000     ...            3.000000       1.0   \n",
       "50%         0.000000       4.000000     ...            6.000000       1.0   \n",
       "75%         0.000000       8.000000     ...           10.000000       1.0   \n",
       "max        18.000000     100.000000     ...           12.000000       1.0   \n",
       "\n",
       "             cluster          bad        small        dirty     unfriend  \\\n",
       "count  262515.000000  6074.000000  6074.000000  6064.000000  6074.000000   \n",
       "mean        2.055894     0.572111     0.698317     0.547674     0.583275   \n",
       "std         2.026812     0.189390     0.269093     0.150247     0.139337   \n",
       "min        -1.000000     0.260001     0.105960     0.164445     0.238607   \n",
       "25%         0.000000     0.445853     0.431451     0.424290     0.500513   \n",
       "50%         2.000000     0.491764     0.794579     0.529286     0.570642   \n",
       "75%         4.000000     0.659974     0.946757     0.647793     0.681905   \n",
       "max         5.000000     1.000000     0.999943     0.998729     0.994167   \n",
       "\n",
       "               far  inconvenient   disappoint  \n",
       "count  6074.000000   6074.000000  5710.000000  \n",
       "mean      0.473090      0.538458     0.455652  \n",
       "std       0.160680      0.146171     0.194084  \n",
       "min       0.128633      0.125858     0.084054  \n",
       "25%       0.352454      0.431240     0.279815  \n",
       "50%       0.423641      0.538031     0.415589  \n",
       "75%       0.561087      0.617340     0.598342  \n",
       "max       0.987323      0.998515     0.997396  \n",
       "\n",
       "[8 rows x 21 columns]"
      ]
     },
     "execution_count": 4,
     "metadata": {},
     "output_type": "execute_result"
    }
   ],
   "source": [
    "df.describe()"
   ]
  },
  {
   "cell_type": "code",
   "execution_count": 1,
   "metadata": {},
   "outputs": [],
   "source": [
    "import re\n",
    "import matplotlib.pyplot as plt\n",
    "import spacy\n",
    "from spacy import displacy\n",
    "from collections import Counter\n",
    "import en_core_web_sm\n",
    "from sklearn.feature_extraction.text import CountVectorizer\n",
    "from nltk.corpus import stopwords\n",
    "from nltk.tokenize import sent_tokenize, word_tokenize\n",
    "from nltk.stem import WordNetLemmatizer\n",
    "import nltk"
   ]
  },
  {
   "cell_type": "code",
   "execution_count": 8,
   "metadata": {},
   "outputs": [
    {
     "data": {
      "text/html": [
       "<div>\n",
       "<style scoped>\n",
       "    .dataframe tbody tr th:only-of-type {\n",
       "        vertical-align: middle;\n",
       "    }\n",
       "\n",
       "    .dataframe tbody tr th {\n",
       "        vertical-align: top;\n",
       "    }\n",
       "\n",
       "    .dataframe thead th {\n",
       "        text-align: right;\n",
       "    }\n",
       "</style>\n",
       "<table border=\"1\" class=\"dataframe\">\n",
       "  <thead>\n",
       "    <tr style=\"text-align: right;\">\n",
       "      <th></th>\n",
       "      <th>negWord</th>\n",
       "      <th>posWord</th>\n",
       "    </tr>\n",
       "  </thead>\n",
       "  <tbody>\n",
       "    <tr>\n",
       "      <th>30</th>\n",
       "      <td>['far', 'obviously']</td>\n",
       "      <td>['even', 'still', 'always']</td>\n",
       "    </tr>\n",
       "    <tr>\n",
       "      <th>154</th>\n",
       "      <td>['however', 'although']</td>\n",
       "      <td>['certainly', 'well', 'wash']</td>\n",
       "    </tr>\n",
       "    <tr>\n",
       "      <th>164</th>\n",
       "      <td>['small', 'small', 'miffed']</td>\n",
       "      <td>['definitely', 'safe', 'quick', 'well', 'safe']</td>\n",
       "    </tr>\n",
       "    <tr>\n",
       "      <th>201</th>\n",
       "      <td>['although']</td>\n",
       "      <td>['happy']</td>\n",
       "    </tr>\n",
       "    <tr>\n",
       "      <th>246</th>\n",
       "      <td>['small', 'old', 'old', 'unhappy']</td>\n",
       "      <td>['great', 'great', 'even', 'clean', 'whole', '...</td>\n",
       "    </tr>\n",
       "    <tr>\n",
       "      <th>265</th>\n",
       "      <td>['although']</td>\n",
       "      <td>['actually']</td>\n",
       "    </tr>\n",
       "    <tr>\n",
       "      <th>271</th>\n",
       "      <td>['small', 'small']</td>\n",
       "      <td>[]</td>\n",
       "    </tr>\n",
       "    <tr>\n",
       "      <th>272</th>\n",
       "      <td>['tiny']</td>\n",
       "      <td>['possible']</td>\n",
       "    </tr>\n",
       "    <tr>\n",
       "      <th>283</th>\n",
       "      <td>['however', 'smaller', 'however', 'dirty', 'ho...</td>\n",
       "      <td>['actually', 'sensitive', 'good', 'choose', 'i...</td>\n",
       "    </tr>\n",
       "    <tr>\n",
       "      <th>286</th>\n",
       "      <td>['awful', 'bad', 'angry', 'disappointed']</td>\n",
       "      <td>['truly', 'good', 'recommended']</td>\n",
       "    </tr>\n",
       "    <tr>\n",
       "      <th>341</th>\n",
       "      <td>['dirty']</td>\n",
       "      <td>['good']</td>\n",
       "    </tr>\n",
       "    <tr>\n",
       "      <th>358</th>\n",
       "      <td>['however', 'poor', 'poor', 'old', 'old', 'poor']</td>\n",
       "      <td>['good', 'true', 'near', 'pretty']</td>\n",
       "    </tr>\n",
       "    <tr>\n",
       "      <th>412</th>\n",
       "      <td>['old', 'old', 'far', 'old', 'old', 'dirty', '...</td>\n",
       "      <td>['allow', 'recommend', 'actually', 'nice', 'ni...</td>\n",
       "    </tr>\n",
       "    <tr>\n",
       "      <th>461</th>\n",
       "      <td>['grubby', 'although', 'tiny']</td>\n",
       "      <td>['convenient', 'amazing', 'clean', 'well', 'ma...</td>\n",
       "    </tr>\n",
       "    <tr>\n",
       "      <th>469</th>\n",
       "      <td>['disappointed', 'old', 'old']</td>\n",
       "      <td>['even', 'expensive', 'expensive', 'recommend']</td>\n",
       "    </tr>\n",
       "    <tr>\n",
       "      <th>474</th>\n",
       "      <td>['old', 'old', 'old', 'old']</td>\n",
       "      <td>['great', 'great', 'strong', 'great', 'great']</td>\n",
       "    </tr>\n",
       "    <tr>\n",
       "      <th>493</th>\n",
       "      <td>['old', 'old', 'however', 'relieved', 'althoug...</td>\n",
       "      <td>['clean', 'comfortable', 'comfortably', 'wash']</td>\n",
       "    </tr>\n",
       "    <tr>\n",
       "      <th>494</th>\n",
       "      <td>['small', 'however']</td>\n",
       "      <td>['pretty', 'clean']</td>\n",
       "    </tr>\n",
       "    <tr>\n",
       "      <th>506</th>\n",
       "      <td>['however', 'although', 'old', 'old', 'small']</td>\n",
       "      <td>['helpful', 'responsive', 'recommend', 'nice',...</td>\n",
       "    </tr>\n",
       "    <tr>\n",
       "      <th>509</th>\n",
       "      <td>['small']</td>\n",
       "      <td>[]</td>\n",
       "    </tr>\n",
       "  </tbody>\n",
       "</table>\n",
       "</div>"
      ],
      "text/plain": [
       "                                               negWord  \\\n",
       "30                                ['far', 'obviously']   \n",
       "154                            ['however', 'although']   \n",
       "164                       ['small', 'small', 'miffed']   \n",
       "201                                       ['although']   \n",
       "246                 ['small', 'old', 'old', 'unhappy']   \n",
       "265                                       ['although']   \n",
       "271                                 ['small', 'small']   \n",
       "272                                           ['tiny']   \n",
       "283  ['however', 'smaller', 'however', 'dirty', 'ho...   \n",
       "286          ['awful', 'bad', 'angry', 'disappointed']   \n",
       "341                                          ['dirty']   \n",
       "358  ['however', 'poor', 'poor', 'old', 'old', 'poor']   \n",
       "412  ['old', 'old', 'far', 'old', 'old', 'dirty', '...   \n",
       "461                     ['grubby', 'although', 'tiny']   \n",
       "469                     ['disappointed', 'old', 'old']   \n",
       "474                       ['old', 'old', 'old', 'old']   \n",
       "493  ['old', 'old', 'however', 'relieved', 'althoug...   \n",
       "494                               ['small', 'however']   \n",
       "506     ['however', 'although', 'old', 'old', 'small']   \n",
       "509                                          ['small']   \n",
       "\n",
       "                                               posWord  \n",
       "30                         ['even', 'still', 'always']  \n",
       "154                      ['certainly', 'well', 'wash']  \n",
       "164    ['definitely', 'safe', 'quick', 'well', 'safe']  \n",
       "201                                          ['happy']  \n",
       "246  ['great', 'great', 'even', 'clean', 'whole', '...  \n",
       "265                                       ['actually']  \n",
       "271                                                 []  \n",
       "272                                       ['possible']  \n",
       "283  ['actually', 'sensitive', 'good', 'choose', 'i...  \n",
       "286                   ['truly', 'good', 'recommended']  \n",
       "341                                           ['good']  \n",
       "358                 ['good', 'true', 'near', 'pretty']  \n",
       "412  ['allow', 'recommend', 'actually', 'nice', 'ni...  \n",
       "461  ['convenient', 'amazing', 'clean', 'well', 'ma...  \n",
       "469    ['even', 'expensive', 'expensive', 'recommend']  \n",
       "474     ['great', 'great', 'strong', 'great', 'great']  \n",
       "493    ['clean', 'comfortable', 'comfortably', 'wash']  \n",
       "494                                ['pretty', 'clean']  \n",
       "506  ['helpful', 'responsive', 'recommend', 'nice',...  \n",
       "509                                                 []  "
      ]
     },
     "execution_count": 8,
     "metadata": {},
     "output_type": "execute_result"
    }
   ],
   "source": [
    "df[['negWord','posWord']][(df['sentiment'] == False) & (df['comments'].notna())].head(20)"
   ]
  },
  {
   "cell_type": "code",
   "execution_count": 49,
   "metadata": {},
   "outputs": [],
   "source": [
    "\n",
    "#https://towardsdatascience.com/named-entity-recognition-with-nltk-and-spacy-8c4a7d88e7da\n",
    "#     pprint([(X.text, X.label_) for X in doc.ents])\n",
    "\n",
    "def english(sent):\n",
    "    try:\n",
    "        return len(re.findall('[A-z]',sent))/len(sent) > 0.5\n",
    "    except:\n",
    "        return False \n",
    "def tokenize(comment,nlp):  \n",
    "    doc = nlp(str(comment))\n",
    "    return doc\n",
    "\n",
    "def entity(comment):\n",
    "    comment = [(X.text, X.label_) for X in comment.ents]\n",
    "    return comment\n",
    "def keyword(sent):\n",
    "    #https://pythonprogramming.net/natural-language-toolkit-nltk-part-speech-tagging/\n",
    "    out = [] \n",
    "    sent = sent.split()\n",
    "    sent = nltk.pos_tag(sent)\n",
    "    for word in sent:\n",
    "        if word[0] in ['perfect','although','recommend','great','nice','near','close','old','noisy','convenient',]:\n",
    "            out.append(word[0])\n",
    "        try:\n",
    "            word[1].index('JJ')\n",
    "            out.append(word[0].lower())\n",
    "        except:\n",
    "            try:\n",
    "                word[1].index('RB')\n",
    "                out.append(word[0].lower())\n",
    "            except:\n",
    "                pass\n",
    "    return out\n",
    "\n",
    "def word(comment):\n",
    "    return [ X for X in comment]\n",
    "\n",
    "def stopword(sent,stop_list):\n",
    "    sent = word_tokenize(sent)\n",
    "    out = []\n",
    "    for w in sent:\n",
    "        if w not in stop_list and len(w) >2:\n",
    "            out.append(str(w))\n",
    "    return out\n",
    "def clean(sent,lemma):\n",
    "    out = []\n",
    "    sent = nltk.pos_tag(sent)\n",
    "    for word in sent:\n",
    "        try:\n",
    "            word[1].index('V')\n",
    "            out.append(lemma.lemmatize(word[0].lower(),'v'))\n",
    "        except:\n",
    "            out.append(lemma.lemmatize(word[0].lower()))\n",
    "    return \" \".join(out)\n",
    "def similarity(w1,w2):\n",
    "    return sum(w1*w2) / sum(w1 *w2)**0.5/ sum(w2*w2)**0.5 \n",
    "\n"
   ]
  },
  {
   "cell_type": "code",
   "execution_count": 4,
   "metadata": {},
   "outputs": [],
   "source": [
    "review = pd.read_csv('./Data/reviews.csv')"
   ]
  },
  {
   "cell_type": "code",
   "execution_count": 5,
   "metadata": {
    "scrolled": false
   },
   "outputs": [
    {
     "name": "stdout",
     "output_type": "stream",
     "text": [
      "(262515, 6)\n",
      "Index(['listing_id', 'id', 'date', 'reviewer_id', 'reviewer_name', 'comments'], dtype='object')\n"
     ]
    }
   ],
   "source": [
    "lemmatizer = WordNetLemmatizer()\n",
    "stop_list = set(stopwords.words('english'))\n",
    "nlp = en_core_web_sm.load()\n",
    "print(review.shape)\n",
    "print(review.columns)\n",
    "\n",
    "review['eng'] = review['comments'].apply(english)\n",
    "review['comments'] = review['comments'][review['eng'] == True].apply(stopword, args=(stop_list,))\n",
    "review['comments'] = review['comments'][review['eng'] == True].apply(clean, args=(lemmatizer,))\n",
    "review['comment_token'] = review['comments'][review['eng'] == True].apply(tokenize, args=(nlp,))\n",
    "review['keyword'] = review['comments'][review['eng']== True].apply(keyword)\n",
    "review['entities'] = review['comment_token'][review['eng'] == True].apply(entity)\n",
    "# review['words'] = review['comment_token'][review['eng'] == True].apply(word)"
   ]
  },
  {
   "cell_type": "code",
   "execution_count": 38,
   "metadata": {},
   "outputs": [
    {
     "data": {
      "text/html": [
       "<div>\n",
       "<style scoped>\n",
       "    .dataframe tbody tr th:only-of-type {\n",
       "        vertical-align: middle;\n",
       "    }\n",
       "\n",
       "    .dataframe tbody tr th {\n",
       "        vertical-align: top;\n",
       "    }\n",
       "\n",
       "    .dataframe thead th {\n",
       "        text-align: right;\n",
       "    }\n",
       "</style>\n",
       "<table border=\"1\" class=\"dataframe\">\n",
       "  <thead>\n",
       "    <tr style=\"text-align: right;\">\n",
       "      <th></th>\n",
       "      <th>listing_id</th>\n",
       "      <th>id</th>\n",
       "      <th>date</th>\n",
       "      <th>reviewer_id</th>\n",
       "      <th>reviewer_name</th>\n",
       "      <th>comments</th>\n",
       "      <th>eng</th>\n",
       "      <th>comment_token</th>\n",
       "      <th>keyword</th>\n",
       "      <th>entities</th>\n",
       "      <th>negCount</th>\n",
       "    </tr>\n",
       "  </thead>\n",
       "  <tbody>\n",
       "    <tr>\n",
       "      <th>57</th>\n",
       "      <td>69074</td>\n",
       "      <td>121083577</td>\n",
       "      <td>2016-12-13</td>\n",
       "      <td>46336404</td>\n",
       "      <td>沉沉</td>\n",
       "      <td>NaN</td>\n",
       "      <td>False</td>\n",
       "      <td>NaN</td>\n",
       "      <td>NaN</td>\n",
       "      <td>NaN</td>\n",
       "      <td>0.0</td>\n",
       "    </tr>\n",
       "    <tr>\n",
       "      <th>61</th>\n",
       "      <td>69074</td>\n",
       "      <td>129739011</td>\n",
       "      <td>2017-02-01</td>\n",
       "      <td>105815180</td>\n",
       "      <td>Cecilia</td>\n",
       "      <td>NaN</td>\n",
       "      <td>False</td>\n",
       "      <td>NaN</td>\n",
       "      <td>NaN</td>\n",
       "      <td>NaN</td>\n",
       "      <td>0.0</td>\n",
       "    </tr>\n",
       "    <tr>\n",
       "      <th>70</th>\n",
       "      <td>69074</td>\n",
       "      <td>170223813</td>\n",
       "      <td>2017-07-15</td>\n",
       "      <td>110099295</td>\n",
       "      <td>Jichu</td>\n",
       "      <td>NaN</td>\n",
       "      <td>False</td>\n",
       "      <td>NaN</td>\n",
       "      <td>NaN</td>\n",
       "      <td>NaN</td>\n",
       "      <td>0.0</td>\n",
       "    </tr>\n",
       "    <tr>\n",
       "      <th>71</th>\n",
       "      <td>69074</td>\n",
       "      <td>171567632</td>\n",
       "      <td>2017-07-18</td>\n",
       "      <td>69885276</td>\n",
       "      <td>Yilia</td>\n",
       "      <td>NaN</td>\n",
       "      <td>False</td>\n",
       "      <td>NaN</td>\n",
       "      <td>NaN</td>\n",
       "      <td>NaN</td>\n",
       "      <td>0.0</td>\n",
       "    </tr>\n",
       "    <tr>\n",
       "      <th>72</th>\n",
       "      <td>69074</td>\n",
       "      <td>174454984</td>\n",
       "      <td>2017-07-26</td>\n",
       "      <td>110252333</td>\n",
       "      <td>刘昱钦</td>\n",
       "      <td>NaN</td>\n",
       "      <td>False</td>\n",
       "      <td>NaN</td>\n",
       "      <td>NaN</td>\n",
       "      <td>NaN</td>\n",
       "      <td>0.0</td>\n",
       "    </tr>\n",
       "  </tbody>\n",
       "</table>\n",
       "</div>"
      ],
      "text/plain": [
       "    listing_id         id        date  reviewer_id reviewer_name comments  \\\n",
       "57       69074  121083577  2016-12-13     46336404            沉沉      NaN   \n",
       "61       69074  129739011  2017-02-01    105815180       Cecilia      NaN   \n",
       "70       69074  170223813  2017-07-15    110099295         Jichu      NaN   \n",
       "71       69074  171567632  2017-07-18     69885276         Yilia      NaN   \n",
       "72       69074  174454984  2017-07-26    110252333           刘昱钦      NaN   \n",
       "\n",
       "      eng comment_token keyword entities  negCount  \n",
       "57  False           NaN     NaN      NaN       0.0  \n",
       "61  False           NaN     NaN      NaN       0.0  \n",
       "70  False           NaN     NaN      NaN       0.0  \n",
       "71  False           NaN     NaN      NaN       0.0  \n",
       "72  False           NaN     NaN      NaN       0.0  "
      ]
     },
     "execution_count": 38,
     "metadata": {},
     "output_type": "execute_result"
    }
   ],
   "source": [
    "review[review['keyword'].isna()].head(5)"
   ]
  },
  {
   "cell_type": "code",
   "execution_count": 23,
   "metadata": {},
   "outputs": [
    {
     "name": "stderr",
     "output_type": "stream",
     "text": [
      "C:\\Users\\Chan Ho Park\\Anaconda3\\lib\\site-packages\\smart_open\\ssh.py:34: UserWarning: paramiko missing, opening SSH/SCP/SFTP paths will be disabled.  `pip install paramiko` to suppress\n",
      "  warnings.warn('paramiko missing, opening SSH/SCP/SFTP paths will be disabled.  `pip install paramiko` to suppress')\n"
     ]
    }
   ],
   "source": [
    "from gensim import models\n",
    "\n",
    "w2v = models.KeyedVectors.load_word2vec_format('../GoogleNews.bin',binary=True)"
   ]
  },
  {
   "cell_type": "code",
   "execution_count": 9,
   "metadata": {},
   "outputs": [
    {
     "name": "stderr",
     "output_type": "stream",
     "text": [
      "C:\\Users\\Chan Ho Park\\Anaconda3\\lib\\site-packages\\ipykernel_launcher.py:2: RuntimeWarning: invalid value encountered in double_scalars\n",
      "  \n"
     ]
    },
    {
     "name": "stdout",
     "output_type": "stream",
     "text": [
      "(149986,)\n",
      "(149986,)\n",
      "(149986,)\n"
     ]
    },
    {
     "name": "stderr",
     "output_type": "stream",
     "text": [
      "C:\\Users\\Chan Ho Park\\Anaconda3\\lib\\site-packages\\pandas\\core\\indexing.py:189: SettingWithCopyWarning: \n",
      "A value is trying to be set on a copy of a slice from a DataFrame\n",
      "\n",
      "See the caveats in the documentation: http://pandas.pydata.org/pandas-docs/stable/indexing.html#indexing-view-versus-copy\n",
      "  self._setitem_with_indexer(indexer, value)\n"
     ]
    },
    {
     "data": {
      "text/html": [
       "<div>\n",
       "<style scoped>\n",
       "    .dataframe tbody tr th:only-of-type {\n",
       "        vertical-align: middle;\n",
       "    }\n",
       "\n",
       "    .dataframe tbody tr th {\n",
       "        vertical-align: top;\n",
       "    }\n",
       "\n",
       "    .dataframe thead th {\n",
       "        text-align: right;\n",
       "    }\n",
       "</style>\n",
       "<table border=\"1\" class=\"dataframe\">\n",
       "  <thead>\n",
       "    <tr style=\"text-align: right;\">\n",
       "      <th></th>\n",
       "      <th>posCount</th>\n",
       "      <th>negWord</th>\n",
       "      <th>negCount</th>\n",
       "      <th>comments</th>\n",
       "    </tr>\n",
       "  </thead>\n",
       "  <tbody>\n",
       "    <tr>\n",
       "      <th>39694</th>\n",
       "      <td>100</td>\n",
       "      <td>[small]</td>\n",
       "      <td>1</td>\n",
       "      <td>perfect location minute away closest metro sta...</td>\n",
       "    </tr>\n",
       "    <tr>\n",
       "      <th>27765</th>\n",
       "      <td>2</td>\n",
       "      <td>[smaller, however]</td>\n",
       "      <td>2</td>\n",
       "      <td>yes place smaller depict photo however others ...</td>\n",
       "    </tr>\n",
       "    <tr>\n",
       "      <th>56044</th>\n",
       "      <td>1</td>\n",
       "      <td>[small]</td>\n",
       "      <td>1</td>\n",
       "      <td>small room good location little bit difficult ...</td>\n",
       "    </tr>\n",
       "    <tr>\n",
       "      <th>19760</th>\n",
       "      <td>2</td>\n",
       "      <td>[noisy, smelly]</td>\n",
       "      <td>2</td>\n",
       "      <td>the location convenient but house clean the ai...</td>\n",
       "    </tr>\n",
       "    <tr>\n",
       "      <th>144463</th>\n",
       "      <td>29</td>\n",
       "      <td>[old, old, old, old, however]</td>\n",
       "      <td>5</td>\n",
       "      <td>grow hong kong go back visit family know place...</td>\n",
       "    </tr>\n",
       "    <tr>\n",
       "      <th>178241</th>\n",
       "      <td>1</td>\n",
       "      <td>[smaller]</td>\n",
       "      <td>1</td>\n",
       "      <td>the room really smaller size picture lucian ho...</td>\n",
       "    </tr>\n",
       "    <tr>\n",
       "      <th>14965</th>\n",
       "      <td>8</td>\n",
       "      <td>[horrible, bad, although, horrible]</td>\n",
       "      <td>4</td>\n",
       "      <td>j'ai rarement rédigé commentaire après séjours...</td>\n",
       "    </tr>\n",
       "    <tr>\n",
       "      <th>136067</th>\n",
       "      <td>2</td>\n",
       "      <td>[old, old, noisy, noisy]</td>\n",
       "      <td>4</td>\n",
       "      <td>hong kong standard big flat old build central ...</td>\n",
       "    </tr>\n",
       "    <tr>\n",
       "      <th>146693</th>\n",
       "      <td>8</td>\n",
       "      <td>[small]</td>\n",
       "      <td>1</td>\n",
       "      <td>extremely well situated apartment perfectly lo...</td>\n",
       "    </tr>\n",
       "    <tr>\n",
       "      <th>152346</th>\n",
       "      <td>100</td>\n",
       "      <td>[small]</td>\n",
       "      <td>1</td>\n",
       "      <td>both fang place awesome fang super friendly ac...</td>\n",
       "    </tr>\n",
       "  </tbody>\n",
       "</table>\n",
       "</div>"
      ],
      "text/plain": [
       "       posCount                              negWord negCount  \\\n",
       "39694       100                              [small]        1   \n",
       "27765         2                   [smaller, however]        2   \n",
       "56044         1                              [small]        1   \n",
       "19760         2                      [noisy, smelly]        2   \n",
       "144463       29        [old, old, old, old, however]        5   \n",
       "178241        1                            [smaller]        1   \n",
       "14965         8  [horrible, bad, although, horrible]        4   \n",
       "136067        2             [old, old, noisy, noisy]        4   \n",
       "146693        8                              [small]        1   \n",
       "152346      100                              [small]        1   \n",
       "\n",
       "                                                 comments  \n",
       "39694   perfect location minute away closest metro sta...  \n",
       "27765   yes place smaller depict photo however others ...  \n",
       "56044   small room good location little bit difficult ...  \n",
       "19760   the location convenient but house clean the ai...  \n",
       "144463  grow hong kong go back visit family know place...  \n",
       "178241  the room really smaller size picture lucian ho...  \n",
       "14965   j'ai rarement rédigé commentaire après séjours...  \n",
       "136067  hong kong standard big flat old build central ...  \n",
       "146693  extremely well situated apartment perfectly lo...  \n",
       "152346  both fang place awesome fang super friendly ac...  "
      ]
     },
     "execution_count": 9,
     "metadata": {},
     "output_type": "execute_result"
    }
   ],
   "source": [
    "out = []\n",
    "out2 = []\n",
    "out3 = []\n",
    "out4 = [] \n",
    "index =[]\n",
    "\n",
    "bad = w2v['bad']\n",
    "small = w2v['small']\n",
    "dirty = w2v['dirty']\n",
    "unfriend = w2v['unfriendly']\n",
    "far = w2v['far']\n",
    "inconven = w2v['inconvenient']\n",
    "disappoint = w2v['disappointed']\n",
    "\n",
    "good = w2v['good']\n",
    "clean = w2v['clean']\n",
    "friend = w2v['friendly']\n",
    "close = (w2v['close']+w2v['near'])/2\n",
    "conven = w2v['convenient']\n",
    "recommend = w2v['recommend']\n",
    "response = w2v['responsive']\n",
    "comfortable = w2v['comfortable']\n",
    "\n",
    "false_pos = ['quite','really','much','dirty','right','little','there','back','bad','enough','only','inconvenient','very','not','outside']\n",
    "skip = ['quite','much','larger','clean', 'good', 'awesome', 'clean', 'large','big','happy', 'friendly','hospitable', 'friendliest','huge','close','convenient','recommend'] \n",
    "for i,words in review['keyword'][(review['eng'] == True)  & (review['keyword'].notna())].iteritems():\n",
    "    negword = [] \n",
    "    posword = []\n",
    "    index.append(i)\n",
    "    for word in words:\n",
    "        try:\n",
    "            vec = w2v[word]\n",
    "            if word in false_pos:\n",
    "                pass\n",
    "            elif word in ['cozy','modern','brilliant'] or similarity(good,vec) > 0.6 or similarity(clean,vec) > 0.6 or similarity(friend,vec) > 0.6 or similarity(close,vec) > 0.6 or similarity(conven,vec) > 0.6 or similarity(recommend,vec) > 0.6 or  similarity(response,vec) > 0.6 or  similarity(comfortable,vec) > 0.6:\n",
    "                posword.append(word)\n",
    "            if word in skip:\n",
    "                continue\n",
    "        except:\n",
    "            continue\n",
    "        if word in ['however','although','noisy','old'] or similarity(vec, bad) > 0.7 or similarity(vec,small) > 0.8 or similarity(vec, dirty) > 0.7 or similarity(vec,unfriend) > 0.7 or similarity(vec,far) > 0.7 or similarity(vec,inconven) > 0.7 or similarity(disappoint,vec) > 0.7:\n",
    "            negword.append(word)\n",
    "    posword = [word for word in posword if word not in negword]\n",
    "    negword = [word for word in negword if word not in posword]\n",
    "    \n",
    "    out4.append(posword)\n",
    "    out2.append(negword)\n",
    "    out.append(len(negword))\n",
    "    if ('perfect' in posword) or ('best' in posword): \n",
    "        out3.append(100)\n",
    "    else:\n",
    "        out3.append(len(posword))\n",
    "out = pd.Series(out, index=index)\n",
    "out2 = pd.Series(out2,index=index)\n",
    "out3 = pd.Series(out3,index=index)\n",
    "out4 = pd.Series(out4,index=index)\n",
    "\n",
    "print(out.shape)\n",
    "print(out2.shape)\n",
    "print(out3.shape)\n",
    "\n",
    "review['negCount'] = pd.Series([None] * review.shape[0])\n",
    "review['negWord'] = pd.Series([None] * review.shape[0])\n",
    "review['posCount'] =  pd.Series([None] * review.shape[0])\n",
    "review['posWord'] =  pd.Series([None] * review.shape[0])\n",
    "\n",
    "review['negCount'].iloc[index] = out\n",
    "review['negWord'].iloc[index] = out2\n",
    "review['posCount'].iloc[index] = out3\n",
    "review['posWord'].iloc[index] = out4\n",
    "\n",
    "review[['posCount','negWord','negCount','comments']][(review['eng'] == True) & (review['negCount'].notna())& (review['negCount'] > 0)].sample(10)"
   ]
  },
  {
   "cell_type": "code",
   "execution_count": 2,
   "metadata": {
    "scrolled": true
   },
   "outputs": [
    {
     "data": {
      "text/html": [
       "<div>\n",
       "<style scoped>\n",
       "    .dataframe tbody tr th:only-of-type {\n",
       "        vertical-align: middle;\n",
       "    }\n",
       "\n",
       "    .dataframe tbody tr th {\n",
       "        vertical-align: top;\n",
       "    }\n",
       "\n",
       "    .dataframe thead th {\n",
       "        text-align: right;\n",
       "    }\n",
       "</style>\n",
       "<table border=\"1\" class=\"dataframe\">\n",
       "  <thead>\n",
       "    <tr style=\"text-align: right;\">\n",
       "      <th></th>\n",
       "      <th>sentiment</th>\n",
       "      <th>negWord</th>\n",
       "      <th>posWord</th>\n",
       "      <th>comments</th>\n",
       "    </tr>\n",
       "  </thead>\n",
       "  <tbody>\n",
       "    <tr>\n",
       "      <th>3877</th>\n",
       "      <td>False</td>\n",
       "      <td>['old', 'old']</td>\n",
       "      <td>['convenient', 'quick']</td>\n",
       "      <td>cozy bright apartment heart funky area love wa...</td>\n",
       "    </tr>\n",
       "    <tr>\n",
       "      <th>210594</th>\n",
       "      <td>False</td>\n",
       "      <td>['noisy', 'noisy', 'old', 'old']</td>\n",
       "      <td>['excellent', 'lively', 'well', 'good', 'good']</td>\n",
       "      <td>excellent location literally outside jordan mt...</td>\n",
       "    </tr>\n",
       "    <tr>\n",
       "      <th>63352</th>\n",
       "      <td>False</td>\n",
       "      <td>['scary']</td>\n",
       "      <td>['good']</td>\n",
       "      <td>room good but place scary many drunk people</td>\n",
       "    </tr>\n",
       "    <tr>\n",
       "      <th>217743</th>\n",
       "      <td>False</td>\n",
       "      <td>['smaller', 'small', 'old', 'old']</td>\n",
       "      <td>['accurate', 'enjoyable', 'awesome', 'easy']</td>\n",
       "      <td>disappoint stay house smaller older expect tho...</td>\n",
       "    </tr>\n",
       "    <tr>\n",
       "      <th>3603</th>\n",
       "      <td>False</td>\n",
       "      <td>['sad', 'although']</td>\n",
       "      <td>['hard', 'long', 'friendly']</td>\n",
       "      <td>book early avoid disappointment hard see apart...</td>\n",
       "    </tr>\n",
       "  </tbody>\n",
       "</table>\n",
       "</div>"
      ],
      "text/plain": [
       "        sentiment                             negWord  \\\n",
       "3877        False                      ['old', 'old']   \n",
       "210594      False    ['noisy', 'noisy', 'old', 'old']   \n",
       "63352       False                           ['scary']   \n",
       "217743      False  ['smaller', 'small', 'old', 'old']   \n",
       "3603        False                 ['sad', 'although']   \n",
       "\n",
       "                                                posWord  \\\n",
       "3877                            ['convenient', 'quick']   \n",
       "210594  ['excellent', 'lively', 'well', 'good', 'good']   \n",
       "63352                                          ['good']   \n",
       "217743     ['accurate', 'enjoyable', 'awesome', 'easy']   \n",
       "3603                       ['hard', 'long', 'friendly']   \n",
       "\n",
       "                                                 comments  \n",
       "3877    cozy bright apartment heart funky area love wa...  \n",
       "210594  excellent location literally outside jordan mt...  \n",
       "63352         room good but place scary many drunk people  \n",
       "217743  disappoint stay house smaller older expect tho...  \n",
       "3603    book early avoid disappointment hard see apart...  "
      ]
     },
     "execution_count": 2,
     "metadata": {},
     "output_type": "execute_result"
    }
   ],
   "source": [
    "review['sentiment'] = ((review['negCount']*2 - review['posCount'] < 1) | (len(review['negWord']) == 0))\n",
    "review[['sentiment','negWord','posWord','comments']][(review['sentiment'] == False) & (review['comments'].notna())].sample(5)"
   ]
  },
  {
   "cell_type": "code",
   "execution_count": 3,
   "metadata": {},
   "outputs": [],
   "source": [
    "review.to_csv('./1020.csv')"
   ]
  },
  {
   "cell_type": "code",
   "execution_count": 7,
   "metadata": {},
   "outputs": [
    {
     "data": {
      "text/plain": [
       "0.5806707739438449"
      ]
     },
     "execution_count": 7,
     "metadata": {},
     "output_type": "execute_result"
    }
   ],
   "source": [
    "similarity(w2v['comfortable'],w2v['cozy'])"
   ]
  },
  {
   "cell_type": "markdown",
   "metadata": {},
   "source": [
    "## Analysis of individual user's review pattern\n",
    "- We attempt to check whether individual users have a particular pattern \n",
    "    - Check correlation between  proportion of negative review and total number of review of particular user.\n",
    "    - This again can be shown as a form of X- number of total review  / Y-proportion of negative review \n",
    "- We attempt to check whether negative reviews are correlated to the timestamp of review."
   ]
  },
  {
   "cell_type": "code",
   "execution_count": 15,
   "metadata": {},
   "outputs": [],
   "source": [
    "from collections import Counter\n",
    "review = pd.read_csv('./1020.csv')\n",
    "user_info_df = pd.read_csv('./1020_frequent_user_info.csv')"
   ]
  },
  {
   "cell_type": "code",
   "execution_count": 16,
   "metadata": {},
   "outputs": [
    {
     "data": {
      "text/plain": [
       "Index(['Unnamed: 0', 'Unnamed: 0.1', 'Unnamed: 0.1.1', 'Unnamed: 0.1.1.1',\n",
       "       'listing_id', 'id', 'date', 'reviewer_id', 'reviewer_name', 'comments',\n",
       "       'eng', 'comment_token', 'keyword', 'entities', 'negCount', 'negWord',\n",
       "       'posCount', 'posWord', 'sentiment', 'timestamp', 'month', '1',\n",
       "       'embed_dir', 'loc', 'neighbourhood', 'cluster', 'area', 'bad', 'small',\n",
       "       'dirty', 'unfriend', 'far', 'inconvenient', 'disappoint', 'label'],\n",
       "      dtype='object')"
      ]
     },
     "execution_count": 16,
     "metadata": {},
     "output_type": "execute_result"
    }
   ],
   "source": [
    "freq_index = user_info_df[['id',\"negWord\"]][user_info_df['num_total'] > 1].dropna().index\n",
    "review['small'] = review['small'] -0.1\n",
    "review.columns"
   ]
  },
  {
   "cell_type": "code",
   "execution_count": 17,
   "metadata": {},
   "outputs": [],
   "source": [
    "freq_index= review['dirty'].notna().tolist()"
   ]
  },
  {
   "cell_type": "code",
   "execution_count": 19,
   "metadata": {},
   "outputs": [],
   "source": [
    "review['small'] = review['small'] -0.1\n",
    "review['label'] = review[['bad','small','dirty','unfriend','far','inconvenient','disappoint']].iloc[freq_index].apply(lambda x: x.nlargest(1).idxmin(), axis=1 )"
   ]
  },
  {
   "cell_type": "code",
   "execution_count": 62,
   "metadata": {},
   "outputs": [
    {
     "data": {
      "text/plain": [
       "(array([ 503.,    0.,  392.,    0., 1398.,    0., 2638.,    0.,  973.,\n",
       "         170.]),\n",
       " array([0. , 0.5, 1. , 1.5, 2. , 2.5, 3. , 3.5, 4. , 4.5, 5. ]),\n",
       " <a list of 10 Patch objects>)"
      ]
     },
     "execution_count": 62,
     "metadata": {},
     "output_type": "execute_result"
    },
    {
     "data": {
      "image/png": "[encoded data removed]",
      "text/plain": [
       "<Figure size 432x288 with 1 Axes>"
      ]
     },
     "metadata": {
      "needs_background": "light"
     },
     "output_type": "display_data"
    }
   ],
   "source": [
    "plt.hist(review['label'].iloc[freq_index].tolist())"
   ]
  },
  {
   "cell_type": "markdown",
   "metadata": {},
   "source": [
    "## without bad\n",
    "    - because it seems ambiguous"
   ]
  },
  {
   "cell_type": "code",
   "execution_count": 20,
   "metadata": {},
   "outputs": [],
   "source": [
    "review['label'] = review[['small','dirty','unfriend','far','inconvenient','disappoint']].iloc[freq_index].apply(lambda x: x.nlargest(1).idxmin(), axis=1 )"
   ]
  },
  {
   "cell_type": "code",
   "execution_count": 68,
   "metadata": {},
   "outputs": [
    {
     "data": {
      "text/plain": [
       "(array([ 452.,    0.,  380.,    0., 2974.,    0., 1203.,    0.,  908.,\n",
       "         157.]),\n",
       " array([0. , 0.5, 1. , 1.5, 2. , 2.5, 3. , 3.5, 4. , 4.5, 5. ]),\n",
       " <a list of 10 Patch objects>)"
      ]
     },
     "execution_count": 68,
     "metadata": {},
     "output_type": "execute_result"
    },
    {
     "data": {
      "image/png": "[encoded data removed]",
      "text/plain": [
       "<Figure size 432x288 with 1 Axes>"
      ]
     },
     "metadata": {
      "needs_background": "light"
     },
     "output_type": "display_data"
    }
   ],
   "source": [
    "plt.hist(review['sentiment'].iloc[freq_index].tolist())"
   ]
  },
  {
   "cell_type": "code",
   "execution_count": 12,
   "metadata": {},
   "outputs": [
    {
     "name": "stdout",
     "output_type": "stream",
     "text": [
      "Total review number count Counter({1: 120655, 2: 9179, 3: 1722, 4: 557, 5: 212, 6: 114, 7: 59, 8: 32, 9: 22, 13: 10, 10: 10, 12: 9, 14: 7, 11: 5, 16: 4, 21: 2, 18: 2, 35: 1, 34: 1, 28: 1, 22: 1, 17: 1, 15: 1})\n",
      "\n",
      "Negative review number count Counter()\n"
     ]
    },
    {
     "data": {
      "image/png": "[encoded data removed]",
      "text/plain": [
       "<Figure size 432x288 with 1 Axes>"
      ]
     },
     "metadata": {
      "needs_background": "light"
     },
     "output_type": "display_data"
    },
    {
     "data": {
      "text/plain": [
       "(array([2.491e+03, 1.730e+02, 5.400e+01, 1.500e+01, 1.900e+01, 8.000e+00,\n",
       "        5.000e+00, 2.000e+00, 3.000e+00, 0.000e+00, 0.000e+00, 1.000e+00,\n",
       "        0.000e+00, 0.000e+00, 2.000e+00]),\n",
       " array([ 3.        ,  5.13333333,  7.26666667,  9.4       , 11.53333333,\n",
       "        13.66666667, 15.8       , 17.93333333, 20.06666667, 22.2       ,\n",
       "        24.33333333, 26.46666667, 28.6       , 30.73333333, 32.86666667,\n",
       "        35.        ]),\n",
       " <a list of 15 Patch objects>)"
      ]
     },
     "execution_count": 12,
     "metadata": {},
     "output_type": "execute_result"
    },
    {
     "data": {
      "image/png": "[encoded data removed]",
      "text/plain": [
       "<Figure size 432x288 with 1 Axes>"
      ]
     },
     "metadata": {
      "needs_background": "light"
     },
     "output_type": "display_data"
    }
   ],
   "source": [
    "user_review_counts = review['reviewer_id'][(review['comments'].notna())].value_counts().tolist()\n",
    "user_neg_review_counts =  review['reviewer_id'][(review['sentiment'] == False) & (review['comments'].notna())].value_counts().tolist()\n",
    "\n",
    "print(\"Total review number count\", Counter(user_review_counts))\n",
    "print()\n",
    "print(\"Negative review number count\",Counter(user_neg_review_counts))\n",
    "# histogram of number of negative reviews per user\n",
    "plt.figure(1)\n",
    "plt.hist(user_review_counts, bins=15)\n",
    "plt.show()\n",
    "plt.figure(2)\n",
    "plt.hist([i for i in user_review_counts if i > 2], bins= 15)\n"
   ]
  },
  {
   "cell_type": "code",
   "execution_count": 21,
   "metadata": {},
   "outputs": [
    {
     "name": "stdout",
     "output_type": "stream",
     "text": [
      "68\n"
     ]
    }
   ],
   "source": [
    "neg_review_counts =  review['reviewer_id'][(review['sentiment'] == False) & (review['comments'].notna())].value_counts()\n",
    "freq_user = neg_review_counts[neg_review_counts > 1].index.tolist()\n",
    "print(len(freq_user))"
   ]
  },
  {
   "cell_type": "code",
   "execution_count": 33,
   "metadata": {},
   "outputs": [
    {
     "name": "stderr",
     "output_type": "stream",
     "text": [
      "C:\\Users\\Chan Ho Park\\Anaconda3\\lib\\site-packages\\ipykernel_launcher.py:5: SettingWithCopyWarning: \n",
      "A value is trying to be set on a copy of a slice from a DataFrame\n",
      "\n",
      "See the caveats in the documentation: http://pandas.pydata.org/pandas-docs/stable/indexing.html#indexing-view-versus-copy\n",
      "  \"\"\"\n"
     ]
    },
    {
     "data": {
      "text/plain": [
       "(array([113.,   0.,   0.,  27.,   0.,   0.,   0.,   0.,   0., 126.]),\n",
       " array([0.5 , 0.55, 0.6 , 0.65, 0.7 , 0.75, 0.8 , 0.85, 0.9 , 0.95, 1.  ]),\n",
       " <a list of 10 Patch objects>)"
      ]
     },
     "execution_count": 33,
     "metadata": {},
     "output_type": "execute_result"
    },
    {
     "data": {
      "image/png": "[encoded data removed]",
      "text/plain": [
       "<Figure size 432x288 with 1 Axes>"
      ]
     },
     "metadata": {
      "needs_background": "light"
     },
     "output_type": "display_data"
    }
   ],
   "source": [
    "review['consistency'] = pd.Series([None]* review.shape[0])\n",
    "for user_id in freq_user:\n",
    "    senti_lis = Counter(review['label'][(review['label'].notna()) & (review['comments'].notna())&(review.reviewer_id == user_id)].tolist())\n",
    "    proportion = senti_lis.most_common(1)[0][1]/sum(senti_lis.values())\n",
    "    review['consistency'][review.reviewer_id == user_id] = proportion\n",
    "consistency = review['consistency'][review['consistency'].notna()].tolist()\n",
    "plt.hist(consistency)"
   ]
  },
  {
   "cell_type": "code",
   "execution_count": 62,
   "metadata": {},
   "outputs": [],
   "source": [
    "user_list = review['reviewer_id'][(review['sentiment'] == False) & (review['comments'].notna())].value_counts().index\n",
    "user_info = []\n",
    "for user in user_list:\n",
    "    user_negwords = review['negWord'][(review['sentiment'] == False) & (review['comments'].notna()) & (review['reviewer_id'] == user)].tolist()\n",
    "    negwords = []\n",
    "    for review_bow in user_negwords:\n",
    "        negwords += review_bow.replace(\"\\'\",'').replace('[','').replace(']','').split(',')\n",
    "    negwords = Counter(negwords)\n",
    "    user_proportion = len(user_negwords) / review[(review['comments'].notna()) & (review['reviewer_id'] == user)].shape[0]\n",
    "    # negword , proportion, total number of reviews\n",
    "    user_info.append([user,user_negwords, user_proportion, review[(review['comments'].notna()) & (review['reviewer_id'] == user)].shape[0]])\n"
   ]
  },
  {
   "cell_type": "code",
   "execution_count": 15,
   "metadata": {},
   "outputs": [
    {
     "name": "stdout",
     "output_type": "stream",
     "text": [
      "Counter({1.0: 5130, 0.5: 586, 0.3333333333333333: 138, 0.25: 62, 0.2: 22, 0.16666666666666666: 14, 0.6666666666666666: 11, 0.125: 8, 0.14285714285714285: 8, 0.2857142857142857: 5, 0.1: 4, 0.1111111111111111: 3, 0.0625: 2, 0.18181818181818182: 1, 0.375: 1, 0.3: 1, 0.2222222222222222: 1, 0.4: 1, 0.03571428571428571: 1, 0.047619047619047616: 1, 0.06666666666666667: 1})\n"
     ]
    },
    {
     "data": {
      "image/png": "[encoded data removed]",
      "text/plain": [
       "<Figure size 432x288 with 1 Axes>"
      ]
     },
     "metadata": {
      "needs_background": "light"
     },
     "output_type": "display_data"
    }
   ],
   "source": [
    "import numpy as np\n",
    "# correlation between num of review / proportion of neg review\n",
    "user_info = np.array(user_info)\n",
    "plt.figure(2)\n",
    "print(Counter(user_info[:,2]))\n",
    "plt.scatter(user_info[:,3],user_info[:,2])\n",
    "plt.show()"
   ]
  },
  {
   "cell_type": "code",
   "execution_count": 121,
   "metadata": {},
   "outputs": [
    {
     "name": "stdout",
     "output_type": "stream",
     "text": [
      "Number of frequent users 911\n"
     ]
    },
    {
     "name": "stderr",
     "output_type": "stream",
     "text": [
      "C:\\Users\\Chan Ho Park\\Anaconda3\\lib\\site-packages\\ipykernel_launcher.py:57: RuntimeWarning: invalid value encountered in double_scalars\n"
     ]
    },
    {
     "name": "stdout",
     "output_type": "stream",
     "text": [
      "          id                                       negWord proportion  \\\n",
      "0  103830673          [['bad'], ['bad'], ['bad'], ['bad']]   0.181818   \n",
      "1  215150382  [['noisy', 'noisy'], ['smaller'], ['noisy']]      0.375   \n",
      "2   17106194   [['smelly'], ['unwelcome'], ['old', 'old']]        0.3   \n",
      "3  140515443            [['bad'], ['bad'], ['old', 'old']]          1   \n",
      "4  229325238        [['bad'], ['small', 'weird', 'dirty']]          1   \n",
      "\n",
      "  num_total              embedding_dir       bad     small     dirty  \\\n",
      "0        22  ./user_info/103830673.npy  0.866025  0.327446  0.573550   \n",
      "1         8  ./user_info/215150382.npy  0.364007  0.513897  0.510829   \n",
      "2        10   ./user_info/17106194.npy  0.623753  0.423531  0.688895   \n",
      "3         3  ./user_info/140515443.npy  0.912442  0.374036  0.638298   \n",
      "4         2  ./user_info/229325238.npy  0.922080  0.669961  0.917312   \n",
      "\n",
      "   unfriend       far  inconvenient  disappoint sensitive  \n",
      "0  0.590547  0.377426      0.534248    0.498425       bad  \n",
      "1  0.583958  0.374153      0.565251    0.378883  unfriend  \n",
      "2  0.711179  0.350815      0.686825    0.330178  unfriend  \n",
      "3  0.634347  0.437724      0.572932    0.491194       bad  \n",
      "4  0.762537  0.457563      0.729114    0.549314       bad  \n"
     ]
    }
   ],
   "source": [
    "import re\n",
    "# consistency in negwords\n",
    "# whether user looks into particular aspect / more sensitive of listing\n",
    "user_info = np.array(user_info)\n",
    "\n",
    "user_info_df = pd.DataFrame(user_info, columns=[\"reviewer_id\",\"negWord\", \"proportion\", \"num_total\"])\n",
    "\n",
    "freq_users = user_info_df[['id',\"negWord\"]][user_info_df['num_total'] > 1].dropna().values.tolist()\n",
    "freq_index = user_info_df[['id',\"negWord\"]][user_info_df['num_total'] > 1].dropna().index\n",
    "print(\"Number of frequent users\",len(freq_users))\n",
    "\n",
    "\n",
    "dir_ = [] \n",
    "# save embedding\n",
    "for id_,user in freq_users:\n",
    "    user = Counter(re.findall('[A-z]{1,}',str(user).replace('[','').replace(']','')))\n",
    "    np_embeding = np.array(sum([user[key]*w2v[key] for key in user.keys()])/n)\n",
    "    file_dir = './user_info/'+str(id_)+'.npy'\n",
    "    np.save(file_dir,np_embeding)\n",
    "    dir_.append(file_dir)\n",
    "\n",
    "# words to be compared to\n",
    "bad = w2v['bad']\n",
    "small = w2v['small']\n",
    "dirty = w2v['dirty']\n",
    "unfriend = w2v['unfriendly']\n",
    "far = w2v['far']\n",
    "inconven = w2v['inconvenient']\n",
    "disappoint = w2v['disappointed']\n",
    "\n",
    "dir_df = pd.DataFrame(dir_,index= freq_index.tolist(),columns=['embedding_dir'])\n",
    "user_info_df =user_info_df.join(dir_df)\n",
    "\n",
    "user_sensitive = [[similarity(bad,np.load(embed_dir)),similarity(small,np.load(embed_dir)),similarity(dirty,np.load(embed_dir)),similarity(unfriend,np.load(embed_dir)),similarity(far,np.load(embed_dir)), similarity(inconven,np.load(embed_dir)), similarity(disappoint,np.load(embed_dir))] for embed_dir in dir_]\n",
    "user_sensitive_df = pd.DataFrame(user_sensitive, index= freq_index.tolist(),columns=[\"bad\",\"small\",\"dirty\",\"unfriend\",\"far\",\"inconvenient\",\"disappoint\"])\n",
    "\n",
    "user_info_df =user_info_df.join(user_sensitive_df)\n",
    "user_info_df['sensitive'] = user_info_df[[\"bad\",\"small\",\"dirty\",\"unfriend\",\"far\",\"inconvenient\",\"disappoint\"]].iloc[freq_index].apply(lambda x: x.nlargest(1).idxmin(), axis=1)\n",
    "user_info_df.to_csv('./1020_user_info.csv')\n",
    "print(user_info_df.head(5))\n"
   ]
  },
  {
   "cell_type": "code",
   "execution_count": 122,
   "metadata": {},
   "outputs": [
    {
     "data": {
      "text/plain": [
       "small           419\n",
       "bad             197\n",
       "unfriend        119\n",
       "dirty            60\n",
       "far              59\n",
       "disappoint       43\n",
       "inconvenient     14\n",
       "Name: sensitive, dtype: int64"
      ]
     },
     "execution_count": 122,
     "metadata": {},
     "output_type": "execute_result"
    }
   ],
   "source": [
    "user_info_df['sensitive'].value_counts()"
   ]
  },
  {
   "cell_type": "markdown",
   "metadata": {},
   "source": [
    "## Seasonality of negative review"
   ]
  },
  {
   "cell_type": "code",
   "execution_count": 135,
   "metadata": {},
   "outputs": [
    {
     "data": {
      "text/plain": [
       "[<matplotlib.lines.Line2D at 0x27328aad780>]"
      ]
     },
     "execution_count": 135,
     "metadata": {},
     "output_type": "execute_result"
    },
    {
     "data": {
      "image/png": "[encoded data removed]",
      "text/plain": [
       "<Figure size 432x288 with 1 Axes>"
      ]
     },
     "metadata": {
      "needs_background": "light"
     },
     "output_type": "display_data"
    }
   ],
   "source": [
    "import time\n",
    "import datetime\n",
    "\n",
    "review['1'] = 1\n",
    "review['timestamp'] = review['date'].apply(lambda x: datetime.datetime.strptime(x, \"%Y-%m-%d\").timestamp())\n",
    "review['month'] = review['date'].apply(lambda x: x.split('-')[1])\n",
    "\n",
    "all_per_month = review[[\"1\",\"month\"]][review['comments'].notna()].groupby(['month']).sum()\n",
    "neg_per_month = review[[\"1\",\"month\"]][(review['sentiment'] == False) & (review['comments'].notna())].groupby(['month']).sum()\n",
    "\n",
    "all_per_month = [k[0] for k in all_per_month.values]\n",
    "neg_per_month = [k[0] for k in neg_per_month.values]\n",
    "avg_per_month = [(k)/j for j,k in zip(all_per_month,neg_per_month)]\n",
    "\n",
    "plt.figure(3)\n",
    "plt.plot(range(1,13),neg_per_month)"
   ]
  },
  {
   "cell_type": "code",
   "execution_count": 137,
   "metadata": {},
   "outputs": [
    {
     "data": {
      "text/plain": [
       "[<matplotlib.lines.Line2D at 0x2733b7482e8>]"
      ]
     },
     "execution_count": 137,
     "metadata": {},
     "output_type": "execute_result"
    },
    {
     "data": {
      "image/png": "[encoded data removed]",
      "text/plain": [
       "<Figure size 432x288 with 1 Axes>"
      ]
     },
     "metadata": {
      "needs_background": "light"
     },
     "output_type": "display_data"
    }
   ],
   "source": [
    "plt.figure(4)\n",
    "plt.plot(range(1,13),avg_per_month)"
   ]
  },
  {
   "cell_type": "markdown",
   "metadata": {},
   "source": [
    "## Additional label for negative review"
   ]
  },
  {
   "cell_type": "code",
   "execution_count": 174,
   "metadata": {},
   "outputs": [],
   "source": [
    "dir_ = []\n",
    "for i,row in review[['negWord','id']][(review['sentiment'] == False) & (review['comments'].notna())].iterrows():\n",
    "    tmp = np.array([0.0]*300)\n",
    "    row2 = re.findall('[A-z]{1,}',str(row.values).replace('[','').replace(']',''))\n",
    "    id_ = re.findall('[0-9]{1,}',str(row.values))[0]\n",
    "    for word in row2:\n",
    "        tmp += w2v[word]\n",
    "    tmp = tmp/len(row2)\n",
    "    filen = './review_embed/'+str(id_)+'.npy'\n",
    "    np.save(filen,tmp)\n",
    "    dir_.append(filen)\n",
    "index_ = review[(review['sentiment'] == False) & (review['comments'].notna())].index\n",
    "review = review.join(pd.DataFrame(dir_,index=index_,columns=['embed_dir']))\n",
    "review.to_csv('./1020.csv')"
   ]
  },
  {
   "cell_type": "code",
   "execution_count": 228,
   "metadata": {
    "scrolled": true
   },
   "outputs": [
    {
     "name": "stderr",
     "output_type": "stream",
     "text": [
      "C:\\Users\\Chan Ho Park\\Anaconda3\\lib\\site-packages\\ipykernel_launcher.py:57: RuntimeWarning: invalid value encountered in double_scalars\n"
     ]
    }
   ],
   "source": [
    "review = review.drop([\"bad\",\"small\",\"dirty\",\"unfriend\",\"far\",\"inconvenient\",\"disappoint\",\"label\"],axis=1)\n",
    "review_analysis = [[similarity(bad,np.load(embed_dir)),similarity(small,np.load(embed_dir)),similarity(dirty,np.load(embed_dir)),similarity(unfriend,np.load(embed_dir)),similarity(far,np.load(embed_dir)), similarity(inconven,np.load(embed_dir)), similarity(disappoint,np.load(embed_dir))] for embed_dir in dir_]\n",
    "review_analysis = pd.DataFrame(review_analysis, index= index_.tolist(),columns=[\"bad\",\"small\",\"dirty\",\"unfriend\",\"far\",\"inconvenient\",\"disappoint\"])\n",
    "\n",
    "review =review.join(review_analysis)\n",
    "review['label'] = review[[\"bad\",\"small\",\"dirty\",\"unfriend\",\"far\",\"inconvenient\",\"disappoint\"]].iloc[index_].apply(lambda x: x.nlargest(1).idxmin(), axis=1)\n"
   ]
  },
  {
   "cell_type": "code",
   "execution_count": 229,
   "metadata": {},
   "outputs": [
    {
     "data": {
      "text/html": [
       "<div>\n",
       "<style scoped>\n",
       "    .dataframe tbody tr th:only-of-type {\n",
       "        vertical-align: middle;\n",
       "    }\n",
       "\n",
       "    .dataframe tbody tr th {\n",
       "        vertical-align: top;\n",
       "    }\n",
       "\n",
       "    .dataframe thead th {\n",
       "        text-align: right;\n",
       "    }\n",
       "</style>\n",
       "<table border=\"1\" class=\"dataframe\">\n",
       "  <thead>\n",
       "    <tr style=\"text-align: right;\">\n",
       "      <th></th>\n",
       "      <th>Unnamed: 0</th>\n",
       "      <th>Unnamed: 0.1</th>\n",
       "      <th>Unnamed: 0.1.1</th>\n",
       "      <th>listing_id</th>\n",
       "      <th>id</th>\n",
       "      <th>date</th>\n",
       "      <th>reviewer_id</th>\n",
       "      <th>reviewer_name</th>\n",
       "      <th>comments</th>\n",
       "      <th>eng</th>\n",
       "      <th>...</th>\n",
       "      <th>cluster</th>\n",
       "      <th>area</th>\n",
       "      <th>bad</th>\n",
       "      <th>small</th>\n",
       "      <th>dirty</th>\n",
       "      <th>unfriend</th>\n",
       "      <th>far</th>\n",
       "      <th>inconvenient</th>\n",
       "      <th>disappoint</th>\n",
       "      <th>label</th>\n",
       "    </tr>\n",
       "  </thead>\n",
       "  <tbody>\n",
       "    <tr>\n",
       "      <th>30</th>\n",
       "      <td>30</td>\n",
       "      <td>30</td>\n",
       "      <td>30</td>\n",
       "      <td>69074</td>\n",
       "      <td>29636067</td>\n",
       "      <td>2015-04-10</td>\n",
       "      <td>2012951</td>\n",
       "      <td>Alba</td>\n",
       "      <td>amy kind short notice far away obviously even ...</td>\n",
       "      <td>True</td>\n",
       "      <td>...</td>\n",
       "      <td>2</td>\n",
       "      <td>2-Central &amp; Western</td>\n",
       "      <td>0.687531</td>\n",
       "      <td>0.420603</td>\n",
       "      <td>0.554211</td>\n",
       "      <td>0.516772</td>\n",
       "      <td>1.029943</td>\n",
       "      <td>0.558322</td>\n",
       "      <td>0.780339</td>\n",
       "      <td>far</td>\n",
       "    </tr>\n",
       "    <tr>\n",
       "      <th>154</th>\n",
       "      <td>154</td>\n",
       "      <td>154</td>\n",
       "      <td>154</td>\n",
       "      <td>103760</td>\n",
       "      <td>610682</td>\n",
       "      <td>2011-10-09</td>\n",
       "      <td>901583</td>\n",
       "      <td>Sue</td>\n",
       "      <td>the unit certainly well locate however wash ma...</td>\n",
       "      <td>True</td>\n",
       "      <td>...</td>\n",
       "      <td>5</td>\n",
       "      <td>5-Central &amp; Western</td>\n",
       "      <td>0.573804</td>\n",
       "      <td>0.546277</td>\n",
       "      <td>0.475505</td>\n",
       "      <td>0.542242</td>\n",
       "      <td>0.751765</td>\n",
       "      <td>0.542051</td>\n",
       "      <td>0.759420</td>\n",
       "      <td>disappoint</td>\n",
       "    </tr>\n",
       "    <tr>\n",
       "      <th>164</th>\n",
       "      <td>164</td>\n",
       "      <td>164</td>\n",
       "      <td>164</td>\n",
       "      <td>103760</td>\n",
       "      <td>851047</td>\n",
       "      <td>2012-01-09</td>\n",
       "      <td>1141647</td>\n",
       "      <td>Nirvikar</td>\n",
       "      <td>definitely small apartment back alley entrance...</td>\n",
       "      <td>True</td>\n",
       "      <td>...</td>\n",
       "      <td>5</td>\n",
       "      <td>5-Central &amp; Western</td>\n",
       "      <td>0.625423</td>\n",
       "      <td>0.996150</td>\n",
       "      <td>0.585357</td>\n",
       "      <td>0.737101</td>\n",
       "      <td>0.435652</td>\n",
       "      <td>0.679201</td>\n",
       "      <td>0.825314</td>\n",
       "      <td>small</td>\n",
       "    </tr>\n",
       "    <tr>\n",
       "      <th>201</th>\n",
       "      <td>201</td>\n",
       "      <td>201</td>\n",
       "      <td>201</td>\n",
       "      <td>103760</td>\n",
       "      <td>3560350</td>\n",
       "      <td>2013-02-17</td>\n",
       "      <td>4693790</td>\n",
       "      <td>Kim Yee</td>\n",
       "      <td>overall happy stay apartment although misarran...</td>\n",
       "      <td>True</td>\n",
       "      <td>...</td>\n",
       "      <td>5</td>\n",
       "      <td>5-Central &amp; Western</td>\n",
       "      <td>0.454820</td>\n",
       "      <td>0.440006</td>\n",
       "      <td>0.373953</td>\n",
       "      <td>0.444038</td>\n",
       "      <td>0.674789</td>\n",
       "      <td>0.421276</td>\n",
       "      <td>0.704939</td>\n",
       "      <td>disappoint</td>\n",
       "    </tr>\n",
       "    <tr>\n",
       "      <th>246</th>\n",
       "      <td>246</td>\n",
       "      <td>246</td>\n",
       "      <td>246</td>\n",
       "      <td>103760</td>\n",
       "      <td>11999701</td>\n",
       "      <td>2014-04-21</td>\n",
       "      <td>855308</td>\n",
       "      <td>Chris</td>\n",
       "      <td>the flat great location given middle city thou...</td>\n",
       "      <td>True</td>\n",
       "      <td>...</td>\n",
       "      <td>5</td>\n",
       "      <td>5-Central &amp; Western</td>\n",
       "      <td>0.734580</td>\n",
       "      <td>0.788143</td>\n",
       "      <td>0.643821</td>\n",
       "      <td>0.762738</td>\n",
       "      <td>0.488577</td>\n",
       "      <td>0.660232</td>\n",
       "      <td>0.749298</td>\n",
       "      <td>small</td>\n",
       "    </tr>\n",
       "    <tr>\n",
       "      <th>265</th>\n",
       "      <td>265</td>\n",
       "      <td>265</td>\n",
       "      <td>265</td>\n",
       "      <td>103760</td>\n",
       "      <td>22206250</td>\n",
       "      <td>2014-11-01</td>\n",
       "      <td>21514030</td>\n",
       "      <td>Andrey</td>\n",
       "      <td>willing wait owner apartment 30-40 minute alth...</td>\n",
       "      <td>True</td>\n",
       "      <td>...</td>\n",
       "      <td>5</td>\n",
       "      <td>5-Central &amp; Western</td>\n",
       "      <td>0.454820</td>\n",
       "      <td>0.440006</td>\n",
       "      <td>0.373953</td>\n",
       "      <td>0.444038</td>\n",
       "      <td>0.674789</td>\n",
       "      <td>0.421276</td>\n",
       "      <td>0.704939</td>\n",
       "      <td>disappoint</td>\n",
       "    </tr>\n",
       "    <tr>\n",
       "      <th>271</th>\n",
       "      <td>271</td>\n",
       "      <td>271</td>\n",
       "      <td>271</td>\n",
       "      <td>103760</td>\n",
       "      <td>24178268</td>\n",
       "      <td>2014-12-22</td>\n",
       "      <td>19267125</td>\n",
       "      <td>Colette</td>\n",
       "      <td>the apartment small picture take use wire angl...</td>\n",
       "      <td>True</td>\n",
       "      <td>...</td>\n",
       "      <td>5</td>\n",
       "      <td>5-Central &amp; Western</td>\n",
       "      <td>0.445853</td>\n",
       "      <td>1.000000</td>\n",
       "      <td>0.424290</td>\n",
       "      <td>0.500513</td>\n",
       "      <td>0.352454</td>\n",
       "      <td>0.431240</td>\n",
       "      <td>0.279815</td>\n",
       "      <td>small</td>\n",
       "    </tr>\n",
       "    <tr>\n",
       "      <th>272</th>\n",
       "      <td>272</td>\n",
       "      <td>272</td>\n",
       "      <td>272</td>\n",
       "      <td>103760</td>\n",
       "      <td>25552880</td>\n",
       "      <td>2015-01-19</td>\n",
       "      <td>3944044</td>\n",
       "      <td>Genevieve</td>\n",
       "      <td>location brilliant short walk central mtr clos...</td>\n",
       "      <td>True</td>\n",
       "      <td>...</td>\n",
       "      <td>5</td>\n",
       "      <td>5-Central &amp; Western</td>\n",
       "      <td>0.315233</td>\n",
       "      <td>0.794579</td>\n",
       "      <td>0.452006</td>\n",
       "      <td>0.437778</td>\n",
       "      <td>0.354259</td>\n",
       "      <td>0.415639</td>\n",
       "      <td>0.154624</td>\n",
       "      <td>small</td>\n",
       "    </tr>\n",
       "    <tr>\n",
       "      <th>283</th>\n",
       "      <td>283</td>\n",
       "      <td>283</td>\n",
       "      <td>283</td>\n",
       "      <td>103760</td>\n",
       "      <td>40355112</td>\n",
       "      <td>2015-07-30</td>\n",
       "      <td>23052011</td>\n",
       "      <td>Dayoung</td>\n",
       "      <td>location perfectly central 5mins walk distance...</td>\n",
       "      <td>True</td>\n",
       "      <td>...</td>\n",
       "      <td>5</td>\n",
       "      <td>5-Central &amp; Western</td>\n",
       "      <td>0.884822</td>\n",
       "      <td>0.777118</td>\n",
       "      <td>1.095058</td>\n",
       "      <td>0.928000</td>\n",
       "      <td>0.780612</td>\n",
       "      <td>0.921745</td>\n",
       "      <td>0.864084</td>\n",
       "      <td>dirty</td>\n",
       "    </tr>\n",
       "    <tr>\n",
       "      <th>286</th>\n",
       "      <td>286</td>\n",
       "      <td>286</td>\n",
       "      <td>286</td>\n",
       "      <td>103760</td>\n",
       "      <td>50022535</td>\n",
       "      <td>2015-10-08</td>\n",
       "      <td>24786922</td>\n",
       "      <td>Vivi</td>\n",
       "      <td>our stay brend flat really awful there bad sne...</td>\n",
       "      <td>True</td>\n",
       "      <td>...</td>\n",
       "      <td>5</td>\n",
       "      <td>5-Central &amp; Western</td>\n",
       "      <td>0.963639</td>\n",
       "      <td>0.404484</td>\n",
       "      <td>0.708954</td>\n",
       "      <td>0.833713</td>\n",
       "      <td>0.510696</td>\n",
       "      <td>0.753278</td>\n",
       "      <td>1.045677</td>\n",
       "      <td>disappoint</td>\n",
       "    </tr>\n",
       "  </tbody>\n",
       "</table>\n",
       "<p>10 rows × 34 columns</p>\n",
       "</div>"
      ],
      "text/plain": [
       "     Unnamed: 0  Unnamed: 0.1  Unnamed: 0.1.1  listing_id        id  \\\n",
       "30           30            30              30       69074  29636067   \n",
       "154         154           154             154      103760    610682   \n",
       "164         164           164             164      103760    851047   \n",
       "201         201           201             201      103760   3560350   \n",
       "246         246           246             246      103760  11999701   \n",
       "265         265           265             265      103760  22206250   \n",
       "271         271           271             271      103760  24178268   \n",
       "272         272           272             272      103760  25552880   \n",
       "283         283           283             283      103760  40355112   \n",
       "286         286           286             286      103760  50022535   \n",
       "\n",
       "           date  reviewer_id reviewer_name  \\\n",
       "30   2015-04-10      2012951          Alba   \n",
       "154  2011-10-09       901583           Sue   \n",
       "164  2012-01-09      1141647      Nirvikar   \n",
       "201  2013-02-17      4693790       Kim Yee   \n",
       "246  2014-04-21       855308         Chris   \n",
       "265  2014-11-01     21514030        Andrey   \n",
       "271  2014-12-22     19267125       Colette   \n",
       "272  2015-01-19      3944044     Genevieve   \n",
       "283  2015-07-30     23052011       Dayoung   \n",
       "286  2015-10-08     24786922          Vivi   \n",
       "\n",
       "                                              comments   eng     ...      \\\n",
       "30   amy kind short notice far away obviously even ...  True     ...       \n",
       "154  the unit certainly well locate however wash ma...  True     ...       \n",
       "164  definitely small apartment back alley entrance...  True     ...       \n",
       "201  overall happy stay apartment although misarran...  True     ...       \n",
       "246  the flat great location given middle city thou...  True     ...       \n",
       "265  willing wait owner apartment 30-40 minute alth...  True     ...       \n",
       "271  the apartment small picture take use wire angl...  True     ...       \n",
       "272  location brilliant short walk central mtr clos...  True     ...       \n",
       "283  location perfectly central 5mins walk distance...  True     ...       \n",
       "286  our stay brend flat really awful there bad sne...  True     ...       \n",
       "\n",
       "    cluster                 area       bad     small     dirty  unfriend  \\\n",
       "30        2  2-Central & Western  0.687531  0.420603  0.554211  0.516772   \n",
       "154       5  5-Central & Western  0.573804  0.546277  0.475505  0.542242   \n",
       "164       5  5-Central & Western  0.625423  0.996150  0.585357  0.737101   \n",
       "201       5  5-Central & Western  0.454820  0.440006  0.373953  0.444038   \n",
       "246       5  5-Central & Western  0.734580  0.788143  0.643821  0.762738   \n",
       "265       5  5-Central & Western  0.454820  0.440006  0.373953  0.444038   \n",
       "271       5  5-Central & Western  0.445853  1.000000  0.424290  0.500513   \n",
       "272       5  5-Central & Western  0.315233  0.794579  0.452006  0.437778   \n",
       "283       5  5-Central & Western  0.884822  0.777118  1.095058  0.928000   \n",
       "286       5  5-Central & Western  0.963639  0.404484  0.708954  0.833713   \n",
       "\n",
       "          far  inconvenient  disappoint       label  \n",
       "30   1.029943      0.558322    0.780339         far  \n",
       "154  0.751765      0.542051    0.759420  disappoint  \n",
       "164  0.435652      0.679201    0.825314       small  \n",
       "201  0.674789      0.421276    0.704939  disappoint  \n",
       "246  0.488577      0.660232    0.749298       small  \n",
       "265  0.674789      0.421276    0.704939  disappoint  \n",
       "271  0.352454      0.431240    0.279815       small  \n",
       "272  0.354259      0.415639    0.154624       small  \n",
       "283  0.780612      0.921745    0.864084       dirty  \n",
       "286  0.510696      0.753278    1.045677  disappoint  \n",
       "\n",
       "[10 rows x 34 columns]"
      ]
     },
     "execution_count": 229,
     "metadata": {},
     "output_type": "execute_result"
    }
   ],
   "source": [
    "review.to_csv('./1020.csv')\n",
    "review[(review['sentiment'] == False) & (review['comments'].notna())].head(10)"
   ]
  },
  {
   "cell_type": "markdown",
   "metadata": {},
   "source": [
    "# Listing.csv"
   ]
  },
  {
   "cell_type": "code",
   "execution_count": 2,
   "metadata": {},
   "outputs": [
    {
     "data": {
      "text/plain": [
       "Yau Tsim Mong        4764\n",
       "Central & Western    2628\n",
       "Wan Chai             2315\n",
       "Islands               547\n",
       "Kowloon City          465\n",
       "Eastern               402\n",
       "Sham Shui Po          261\n",
       "Yuen Long             246\n",
       "North                 232\n",
       "Sai Kung              169\n",
       "Sha Tin               123\n",
       "Southern              113\n",
       "Kwun Tong              68\n",
       "Tsuen Wan              63\n",
       "Tai Po                 55\n",
       "Tuen Mun               54\n",
       "Kwai Tsing             39\n",
       "Wong Tai Sin           25\n",
       "Name: neighbourhood, dtype: int64"
      ]
     },
     "execution_count": 2,
     "metadata": {},
     "output_type": "execute_result"
    }
   ],
   "source": [
    "listing = pd.read_csv('./Data/listings.csv')\n",
    "listing['neighbourhood'].value_counts()"
   ]
  },
  {
   "cell_type": "code",
   "execution_count": 11,
   "metadata": {
    "scrolled": true
   },
   "outputs": [
    {
     "data": {
      "text/html": [
       "<div>\n",
       "<style scoped>\n",
       "    .dataframe tbody tr th:only-of-type {\n",
       "        vertical-align: middle;\n",
       "    }\n",
       "\n",
       "    .dataframe tbody tr th {\n",
       "        vertical-align: top;\n",
       "    }\n",
       "\n",
       "    .dataframe thead th {\n",
       "        text-align: right;\n",
       "    }\n",
       "</style>\n",
       "<table border=\"1\" class=\"dataframe\">\n",
       "  <thead>\n",
       "    <tr style=\"text-align: right;\">\n",
       "      <th></th>\n",
       "      <th>id</th>\n",
       "      <th>name</th>\n",
       "      <th>host_id</th>\n",
       "      <th>host_name</th>\n",
       "      <th>neighbourhood_group</th>\n",
       "      <th>neighbourhood</th>\n",
       "      <th>latitude</th>\n",
       "      <th>longitude</th>\n",
       "      <th>room_type</th>\n",
       "      <th>price</th>\n",
       "      <th>minimum_nights</th>\n",
       "      <th>number_of_reviews</th>\n",
       "      <th>last_review</th>\n",
       "      <th>reviews_per_month</th>\n",
       "      <th>calculated_host_listings_count</th>\n",
       "      <th>availability_365</th>\n",
       "    </tr>\n",
       "  </thead>\n",
       "  <tbody>\n",
       "    <tr>\n",
       "      <th>0</th>\n",
       "      <td>69074</td>\n",
       "      <td>Beautiful oasis of plants &amp; art @ best location</td>\n",
       "      <td>160139</td>\n",
       "      <td>Amy</td>\n",
       "      <td>NaN</td>\n",
       "      <td>Central &amp; Western</td>\n",
       "      <td>22.28352</td>\n",
       "      <td>114.15018</td>\n",
       "      <td>Entire home/apt</td>\n",
       "      <td>1408</td>\n",
       "      <td>3</td>\n",
       "      <td>130</td>\n",
       "      <td>2019-05-02</td>\n",
       "      <td>1.27</td>\n",
       "      <td>1</td>\n",
       "      <td>159</td>\n",
       "    </tr>\n",
       "    <tr>\n",
       "      <th>1</th>\n",
       "      <td>101765</td>\n",
       "      <td>Lamma Island flat 2min walk from the beach!</td>\n",
       "      <td>532909</td>\n",
       "      <td>Michael</td>\n",
       "      <td>NaN</td>\n",
       "      <td>Islands</td>\n",
       "      <td>22.20022</td>\n",
       "      <td>114.13461</td>\n",
       "      <td>Entire home/apt</td>\n",
       "      <td>430</td>\n",
       "      <td>2</td>\n",
       "      <td>11</td>\n",
       "      <td>2019-06-09</td>\n",
       "      <td>0.71</td>\n",
       "      <td>1</td>\n",
       "      <td>47</td>\n",
       "    </tr>\n",
       "    <tr>\n",
       "      <th>2</th>\n",
       "      <td>103760</td>\n",
       "      <td>Central Centre 5 min walk to/from Central MTR</td>\n",
       "      <td>304876</td>\n",
       "      <td>Brend</td>\n",
       "      <td>NaN</td>\n",
       "      <td>Central &amp; Western</td>\n",
       "      <td>22.28407</td>\n",
       "      <td>114.15570</td>\n",
       "      <td>Entire home/apt</td>\n",
       "      <td>853</td>\n",
       "      <td>2</td>\n",
       "      <td>260</td>\n",
       "      <td>2019-07-04</td>\n",
       "      <td>2.65</td>\n",
       "      <td>12</td>\n",
       "      <td>329</td>\n",
       "    </tr>\n",
       "    <tr>\n",
       "      <th>3</th>\n",
       "      <td>132773</td>\n",
       "      <td>Fabulous 2 Bdrm Aprt Open kitchen</td>\n",
       "      <td>304876</td>\n",
       "      <td>Brend</td>\n",
       "      <td>NaN</td>\n",
       "      <td>Central &amp; Western</td>\n",
       "      <td>22.28868</td>\n",
       "      <td>114.14494</td>\n",
       "      <td>Entire home/apt</td>\n",
       "      <td>1056</td>\n",
       "      <td>2</td>\n",
       "      <td>259</td>\n",
       "      <td>2019-07-03</td>\n",
       "      <td>2.66</td>\n",
       "      <td>12</td>\n",
       "      <td>308</td>\n",
       "    </tr>\n",
       "    <tr>\n",
       "      <th>4</th>\n",
       "      <td>133390</td>\n",
       "      <td>Soho, Hong Kong 1 bedroom flat</td>\n",
       "      <td>654642</td>\n",
       "      <td>Robin</td>\n",
       "      <td>NaN</td>\n",
       "      <td>Central &amp; Western</td>\n",
       "      <td>22.28343</td>\n",
       "      <td>114.15539</td>\n",
       "      <td>Entire home/apt</td>\n",
       "      <td>939</td>\n",
       "      <td>2</td>\n",
       "      <td>27</td>\n",
       "      <td>2015-06-30</td>\n",
       "      <td>0.28</td>\n",
       "      <td>1</td>\n",
       "      <td>91</td>\n",
       "    </tr>\n",
       "  </tbody>\n",
       "</table>\n",
       "</div>"
      ],
      "text/plain": [
       "       id                                             name  host_id host_name  \\\n",
       "0   69074  Beautiful oasis of plants & art @ best location   160139       Amy   \n",
       "1  101765      Lamma Island flat 2min walk from the beach!   532909   Michael   \n",
       "2  103760    Central Centre 5 min walk to/from Central MTR   304876     Brend   \n",
       "3  132773               Fabulous 2 Bdrm Aprt Open kitchen    304876     Brend   \n",
       "4  133390                   Soho, Hong Kong 1 bedroom flat   654642     Robin   \n",
       "\n",
       "   neighbourhood_group      neighbourhood  latitude  longitude  \\\n",
       "0                  NaN  Central & Western  22.28352  114.15018   \n",
       "1                  NaN            Islands  22.20022  114.13461   \n",
       "2                  NaN  Central & Western  22.28407  114.15570   \n",
       "3                  NaN  Central & Western  22.28868  114.14494   \n",
       "4                  NaN  Central & Western  22.28343  114.15539   \n",
       "\n",
       "         room_type  price  minimum_nights  number_of_reviews last_review  \\\n",
       "0  Entire home/apt   1408               3                130  2019-05-02   \n",
       "1  Entire home/apt    430               2                 11  2019-06-09   \n",
       "2  Entire home/apt    853               2                260  2019-07-04   \n",
       "3  Entire home/apt   1056               2                259  2019-07-03   \n",
       "4  Entire home/apt    939               2                 27  2015-06-30   \n",
       "\n",
       "   reviews_per_month  calculated_host_listings_count  availability_365  \n",
       "0               1.27                               1               159  \n",
       "1               0.71                               1                47  \n",
       "2               2.65                              12               329  \n",
       "3               2.66                              12               308  \n",
       "4               0.28                               1                91  "
      ]
     },
     "execution_count": 11,
     "metadata": {},
     "output_type": "execute_result"
    }
   ],
   "source": [
    "listing.head(5)"
   ]
  },
  {
   "cell_type": "code",
   "execution_count": 3,
   "metadata": {},
   "outputs": [],
   "source": [
    "from sklearn.cluster import KMeans\n",
    "\n",
    "def cluster_num(loc,km):\n",
    "    '''\n",
    "    k mean cluster the neighborhood based on geographical location\n",
    "    '''\n",
    "    return km.predict([loc])[0]\n",
    "\n",
    "\n",
    "def build_kmean(cluster,X,fig):\n",
    "    plt.figure(2,figsize=(12,10))\n",
    "    km = KMeans(\n",
    "        n_clusters=cluster, init='random',\n",
    "        n_init=10, max_iter=300, \n",
    "        tol=1e-04, random_state=0\n",
    "    )\n",
    "    X = pd.DataFrame(X,columns=['x','y'])\n",
    "    y_km = km.fit_predict(X)\n",
    "    plt.figure(fig)\n",
    "    for i in range(cluster):\n",
    "        plt.scatter(\n",
    "            X['x'][y_km == i], X['y'][y_km == i],\n",
    "            s=50,\n",
    "            marker='s', edgecolor='black',\n",
    "            label='cluster '+ str(i)\n",
    "        )\n",
    "    return km\n",
    "def neighbour(listing_id):\n",
    "    try:\n",
    "        tmp = listing['neighbourhood'][listing['id'] == listing_id].values.tolist()\n",
    "        if len(tmp) == 1:\n",
    "            return tmp[0]\n",
    "        else:\n",
    "            print(tmp)\n",
    "            return \"Nan\"\n",
    "    except:\n",
    "        return \"Nan\"\n",
    "\n",
    "def listing_loc(id_):\n",
    "    '''\n",
    "    append column on review\n",
    "        -the location of the listing \n",
    "    '''\n",
    "    return id2loc[id_]"
   ]
  },
  {
   "cell_type": "code",
   "execution_count": 4,
   "metadata": {},
   "outputs": [
    {
     "name": "stdout",
     "output_type": "stream",
     "text": [
      "Index(['id', 'name', 'host_id', 'host_name', 'neighbourhood_group',\n",
      "       'neighbourhood', 'latitude', 'longitude', 'room_type', 'price',\n",
      "       'minimum_nights', 'number_of_reviews', 'last_review',\n",
      "       'reviews_per_month', 'calculated_host_listings_count',\n",
      "       'availability_365'],\n",
      "      dtype='object')\n",
      "(12569, 16)\n"
     ]
    }
   ],
   "source": [
    "global listing\n",
    "listing = pd.read_csv('./Data/listings.csv')\n",
    "print(listing.columns)\n",
    "print(listing.shape)\n",
    "listing.head(10)\n",
    "global id2loc\n",
    "id2loc = listing[['latitude','longitude','id']].values\n",
    "id2loc = {z:[x,y] for x,y,z in id2loc }\n",
    "X = pd.DataFrame([id2loc[x] for x in id2loc],columns=['x','y'])"
   ]
  },
  {
   "cell_type": "code",
   "execution_count": 63,
   "metadata": {},
   "outputs": [
    {
     "name": "stdout",
     "output_type": "stream",
     "text": [
      "118603\n"
     ]
    },
    {
     "data": {
      "image/png": "[encoded data removed]",
      "text/plain": [
       "<Figure size 432x288 with 1 Axes>"
      ]
     },
     "metadata": {
      "needs_background": "light"
     },
     "output_type": "display_data"
    },
    {
     "data": {
      "image/png": "[encoded data removed]",
      "text/plain": [
       "<Figure size 432x288 with 2 Axes>"
      ]
     },
     "metadata": {
      "needs_background": "light"
     },
     "output_type": "display_data"
    }
   ],
   "source": [
    "# Yau Tsim Mong        4764\n",
    "# Central & Western    2628\n",
    "# Wan Chai             2315\n",
    "# review['loc'] = review['listing_id'].apply(listing_loc)\n",
    "# review['neighbourhood'] = review['listing_id'].apply(neighbour)\n",
    "from matplotlib.colors import LogNorm\n",
    "import numpy as np\n",
    "neg_locs = review['loc'][review['sentiment'] == False].values.tolist()\n",
    "print(len(neg_locs))\n",
    "plt.figure(3)\n",
    "plt.scatter([loc[0] for loc in neg_locs], [loc[1] for loc in neg_locs])\n",
    "plt.figure(4)\n",
    "h, x1,y1, bar = plt.hist2d([loc[0] for loc in neg_locs], [loc[1] for loc in neg_locs],bins= (40,40),norm=LogNorm())\n",
    "plt.colorbar(bar)\n",
    "plt.show()"
   ]
  },
  {
   "cell_type": "code",
   "execution_count": null,
   "metadata": {},
   "outputs": [],
   "source": [
    "x = [j/i for i,j in zip(x1,x2)]\n",
    "y = [j/i for i ,j in zip(y1,y2)]\n"
   ]
  },
  {
   "cell_type": "markdown",
   "metadata": {},
   "source": [
    "## Analysis of sentiment of review by location/listing\n",
    "\n",
    "- First thing would be to check whether there is consistentcy in negative review respect to listing.\n",
    "    - check correlation between the negative keywords of negative reviews in one listing \n",
    "    - if there is correlation then there is a consistent problem in the listing\n",
    "- We attempt to check whether there is a correlation between the neighborhood and negative review.\n",
    "    - \n",
    "- This is done by checking the proportion of negative review per 100 review of a particular neigborhood.\n",
    "    -"
   ]
  },
  {
   "cell_type": "code",
   "execution_count": 65,
   "metadata": {},
   "outputs": [
    {
     "name": "stdout",
     "output_type": "stream",
     "text": [
      "262515\n"
     ]
    },
    {
     "data": {
      "image/png": "[encoded data removed]",
      "text/plain": [
       "<Figure size 432x288 with 1 Axes>"
      ]
     },
     "metadata": {
      "needs_background": "light"
     },
     "output_type": "display_data"
    },
    {
     "data": {
      "image/png": "[encoded data removed]",
      "text/plain": [
       "<Figure size 432x288 with 2 Axes>"
      ]
     },
     "metadata": {
      "needs_background": "light"
     },
     "output_type": "display_data"
    }
   ],
   "source": [
    "\n",
    "locs = review['loc'].values.tolist()\n",
    "print(len(locs))\n",
    "plt.figure(5)\n",
    "plt.scatter([loc[0] for loc in locs], [loc[1] for loc in locs])\n",
    "plt.figure(6)\n",
    "h, x2,y2, bar = plt.hist2d([loc[0] for loc in locs], [loc[1] for loc in locs],bins= (40,40),norm=LogNorm())\n",
    "plt.colorbar(bar)\n",
    "plt.show()"
   ]
  },
  {
   "cell_type": "code",
   "execution_count": 215,
   "metadata": {},
   "outputs": [
    {
     "name": "stdout",
     "output_type": "stream",
     "text": [
      "Index(['Unnamed: 0', 'Unnamed: 0.1', 'Unnamed: 0.1.1', 'listing_id', 'id',\n",
      "       'date', 'reviewer_id', 'reviewer_name', 'comments', 'eng',\n",
      "       'comment_token', 'keyword', 'entities', 'negCount', 'negWord',\n",
      "       'posCount', 'posWord', 'sentiment', 'timestamp', 'month', '1',\n",
      "       'embed_dir', 'bad', 'small', 'dirty', 'unfriend', 'far', 'inconvenient',\n",
      "       'disappoint', 'label', 'loc', 'neighbourhood', 'cluster', 'area'],\n",
      "      dtype='object')\n"
     ]
    },
    {
     "name": "stderr",
     "output_type": "stream",
     "text": [
      "C:\\Users\\Chan Ho Park\\Anaconda3\\lib\\site-packages\\ipykernel_launcher.py:8: SettingWithCopyWarning: \n",
      "A value is trying to be set on a copy of a slice from a DataFrame\n",
      "\n",
      "See the caveats in the documentation: http://pandas.pydata.org/pandas-docs/stable/indexing.html#indexing-view-versus-copy\n",
      "  \n"
     ]
    },
    {
     "ename": "TypeError",
     "evalue": "ufunc 'add' did not contain a loop with signature matching types dtype('<U21') dtype('<U21') dtype('<U21')",
     "output_type": "error",
     "traceback": [
      "\u001b[1;31m---------------------------------------------------------------------------\u001b[0m",
      "\u001b[1;31mTypeError\u001b[0m                                 Traceback (most recent call last)",
      "\u001b[1;32m~\\Anaconda3\\lib\\site-packages\\pandas\\core\\ops.py\u001b[0m in \u001b[0;36mna_op\u001b[1;34m(x, y)\u001b[0m\n\u001b[0;32m   1011\u001b[0m         \u001b[1;32mtry\u001b[0m\u001b[1;33m:\u001b[0m\u001b[1;33m\u001b[0m\u001b[1;33m\u001b[0m\u001b[0m\n\u001b[1;32m-> 1012\u001b[1;33m             \u001b[0mresult\u001b[0m \u001b[1;33m=\u001b[0m \u001b[0mexpressions\u001b[0m\u001b[1;33m.\u001b[0m\u001b[0mevaluate\u001b[0m\u001b[1;33m(\u001b[0m\u001b[0mop\u001b[0m\u001b[1;33m,\u001b[0m \u001b[0mstr_rep\u001b[0m\u001b[1;33m,\u001b[0m \u001b[0mx\u001b[0m\u001b[1;33m,\u001b[0m \u001b[0my\u001b[0m\u001b[1;33m,\u001b[0m \u001b[1;33m**\u001b[0m\u001b[0meval_kwargs\u001b[0m\u001b[1;33m)\u001b[0m\u001b[1;33m\u001b[0m\u001b[1;33m\u001b[0m\u001b[0m\n\u001b[0m\u001b[0;32m   1013\u001b[0m         \u001b[1;32mexcept\u001b[0m \u001b[0mTypeError\u001b[0m\u001b[1;33m:\u001b[0m\u001b[1;33m\u001b[0m\u001b[1;33m\u001b[0m\u001b[0m\n",
      "\u001b[1;32m~\\Anaconda3\\lib\\site-packages\\pandas\\core\\computation\\expressions.py\u001b[0m in \u001b[0;36mevaluate\u001b[1;34m(op, op_str, a, b, use_numexpr, **eval_kwargs)\u001b[0m\n\u001b[0;32m    204\u001b[0m     \u001b[1;32mif\u001b[0m \u001b[0muse_numexpr\u001b[0m\u001b[1;33m:\u001b[0m\u001b[1;33m\u001b[0m\u001b[1;33m\u001b[0m\u001b[0m\n\u001b[1;32m--> 205\u001b[1;33m         \u001b[1;32mreturn\u001b[0m \u001b[0m_evaluate\u001b[0m\u001b[1;33m(\u001b[0m\u001b[0mop\u001b[0m\u001b[1;33m,\u001b[0m \u001b[0mop_str\u001b[0m\u001b[1;33m,\u001b[0m \u001b[0ma\u001b[0m\u001b[1;33m,\u001b[0m \u001b[0mb\u001b[0m\u001b[1;33m,\u001b[0m \u001b[1;33m**\u001b[0m\u001b[0meval_kwargs\u001b[0m\u001b[1;33m)\u001b[0m\u001b[1;33m\u001b[0m\u001b[1;33m\u001b[0m\u001b[0m\n\u001b[0m\u001b[0;32m    206\u001b[0m     \u001b[1;32mreturn\u001b[0m \u001b[0m_evaluate_standard\u001b[0m\u001b[1;33m(\u001b[0m\u001b[0mop\u001b[0m\u001b[1;33m,\u001b[0m \u001b[0mop_str\u001b[0m\u001b[1;33m,\u001b[0m \u001b[0ma\u001b[0m\u001b[1;33m,\u001b[0m \u001b[0mb\u001b[0m\u001b[1;33m)\u001b[0m\u001b[1;33m\u001b[0m\u001b[1;33m\u001b[0m\u001b[0m\n",
      "\u001b[1;32m~\\Anaconda3\\lib\\site-packages\\pandas\\core\\computation\\expressions.py\u001b[0m in \u001b[0;36m_evaluate_numexpr\u001b[1;34m(op, op_str, a, b, truediv, reversed, **eval_kwargs)\u001b[0m\n\u001b[0;32m    119\u001b[0m     \u001b[1;32mif\u001b[0m \u001b[0mresult\u001b[0m \u001b[1;32mis\u001b[0m \u001b[1;32mNone\u001b[0m\u001b[1;33m:\u001b[0m\u001b[1;33m\u001b[0m\u001b[1;33m\u001b[0m\u001b[0m\n\u001b[1;32m--> 120\u001b[1;33m         \u001b[0mresult\u001b[0m \u001b[1;33m=\u001b[0m \u001b[0m_evaluate_standard\u001b[0m\u001b[1;33m(\u001b[0m\u001b[0mop\u001b[0m\u001b[1;33m,\u001b[0m \u001b[0mop_str\u001b[0m\u001b[1;33m,\u001b[0m \u001b[0ma\u001b[0m\u001b[1;33m,\u001b[0m \u001b[0mb\u001b[0m\u001b[1;33m)\u001b[0m\u001b[1;33m\u001b[0m\u001b[1;33m\u001b[0m\u001b[0m\n\u001b[0m\u001b[0;32m    121\u001b[0m \u001b[1;33m\u001b[0m\u001b[0m\n",
      "\u001b[1;32m~\\Anaconda3\\lib\\site-packages\\pandas\\core\\computation\\expressions.py\u001b[0m in \u001b[0;36m_evaluate_standard\u001b[1;34m(op, op_str, a, b, **eval_kwargs)\u001b[0m\n\u001b[0;32m     64\u001b[0m     \u001b[1;32mwith\u001b[0m \u001b[0mnp\u001b[0m\u001b[1;33m.\u001b[0m\u001b[0merrstate\u001b[0m\u001b[1;33m(\u001b[0m\u001b[0mall\u001b[0m\u001b[1;33m=\u001b[0m\u001b[1;34m'ignore'\u001b[0m\u001b[1;33m)\u001b[0m\u001b[1;33m:\u001b[0m\u001b[1;33m\u001b[0m\u001b[1;33m\u001b[0m\u001b[0m\n\u001b[1;32m---> 65\u001b[1;33m         \u001b[1;32mreturn\u001b[0m \u001b[0mop\u001b[0m\u001b[1;33m(\u001b[0m\u001b[0ma\u001b[0m\u001b[1;33m,\u001b[0m \u001b[0mb\u001b[0m\u001b[1;33m)\u001b[0m\u001b[1;33m\u001b[0m\u001b[1;33m\u001b[0m\u001b[0m\n\u001b[0m\u001b[0;32m     66\u001b[0m \u001b[1;33m\u001b[0m\u001b[0m\n",
      "\u001b[1;31mTypeError\u001b[0m: can only concatenate str (not \"int\") to str",
      "\nDuring handling of the above exception, another exception occurred:\n",
      "\u001b[1;31mTypeError\u001b[0m                                 Traceback (most recent call last)",
      "\u001b[1;32m~\\Anaconda3\\lib\\site-packages\\pandas\\core\\ops.py\u001b[0m in \u001b[0;36msafe_na_op\u001b[1;34m(lvalues, rvalues)\u001b[0m\n\u001b[0;32m   1032\u001b[0m             \u001b[1;32mwith\u001b[0m \u001b[0mnp\u001b[0m\u001b[1;33m.\u001b[0m\u001b[0merrstate\u001b[0m\u001b[1;33m(\u001b[0m\u001b[0mall\u001b[0m\u001b[1;33m=\u001b[0m\u001b[1;34m'ignore'\u001b[0m\u001b[1;33m)\u001b[0m\u001b[1;33m:\u001b[0m\u001b[1;33m\u001b[0m\u001b[1;33m\u001b[0m\u001b[0m\n\u001b[1;32m-> 1033\u001b[1;33m                 \u001b[1;32mreturn\u001b[0m \u001b[0mna_op\u001b[0m\u001b[1;33m(\u001b[0m\u001b[0mlvalues\u001b[0m\u001b[1;33m,\u001b[0m \u001b[0mrvalues\u001b[0m\u001b[1;33m)\u001b[0m\u001b[1;33m\u001b[0m\u001b[1;33m\u001b[0m\u001b[0m\n\u001b[0m\u001b[0;32m   1034\u001b[0m         \u001b[1;32mexcept\u001b[0m \u001b[0mException\u001b[0m\u001b[1;33m:\u001b[0m\u001b[1;33m\u001b[0m\u001b[1;33m\u001b[0m\u001b[0m\n",
      "\u001b[1;32m~\\Anaconda3\\lib\\site-packages\\pandas\\core\\ops.py\u001b[0m in \u001b[0;36mna_op\u001b[1;34m(x, y)\u001b[0m\n\u001b[0;32m   1017\u001b[0m                 \u001b[0mmask\u001b[0m \u001b[1;33m=\u001b[0m \u001b[0mnotna\u001b[0m\u001b[1;33m(\u001b[0m\u001b[0mx\u001b[0m\u001b[1;33m)\u001b[0m \u001b[1;33m&\u001b[0m \u001b[0mnotna\u001b[0m\u001b[1;33m(\u001b[0m\u001b[0my\u001b[0m\u001b[1;33m)\u001b[0m\u001b[1;33m\u001b[0m\u001b[1;33m\u001b[0m\u001b[0m\n\u001b[1;32m-> 1018\u001b[1;33m                 \u001b[0mresult\u001b[0m\u001b[1;33m[\u001b[0m\u001b[0mmask\u001b[0m\u001b[1;33m]\u001b[0m \u001b[1;33m=\u001b[0m \u001b[0mop\u001b[0m\u001b[1;33m(\u001b[0m\u001b[0mx\u001b[0m\u001b[1;33m[\u001b[0m\u001b[0mmask\u001b[0m\u001b[1;33m]\u001b[0m\u001b[1;33m,\u001b[0m \u001b[0mcom\u001b[0m\u001b[1;33m.\u001b[0m\u001b[0m_values_from_object\u001b[0m\u001b[1;33m(\u001b[0m\u001b[0my\u001b[0m\u001b[1;33m[\u001b[0m\u001b[0mmask\u001b[0m\u001b[1;33m]\u001b[0m\u001b[1;33m)\u001b[0m\u001b[1;33m)\u001b[0m\u001b[1;33m\u001b[0m\u001b[1;33m\u001b[0m\u001b[0m\n\u001b[0m\u001b[0;32m   1019\u001b[0m             \u001b[1;32melse\u001b[0m\u001b[1;33m:\u001b[0m\u001b[1;33m\u001b[0m\u001b[1;33m\u001b[0m\u001b[0m\n",
      "\u001b[1;31mTypeError\u001b[0m: can only concatenate str (not \"int\") to str",
      "\nDuring handling of the above exception, another exception occurred:\n",
      "\u001b[1;31mTypeError\u001b[0m                                 Traceback (most recent call last)",
      "\u001b[1;32m<ipython-input-215-beb53c171df0>\u001b[0m in \u001b[0;36m<module>\u001b[1;34m\u001b[0m\n\u001b[0;32m      8\u001b[0m     \u001b[0mreview\u001b[0m\u001b[1;33m[\u001b[0m\u001b[1;34m'cluster'\u001b[0m\u001b[1;33m]\u001b[0m\u001b[1;33m[\u001b[0m\u001b[0mreview\u001b[0m\u001b[1;33m[\u001b[0m\u001b[1;34m'neighbourhood'\u001b[0m\u001b[1;33m]\u001b[0m \u001b[1;33m==\u001b[0m \u001b[0mn\u001b[0m \u001b[1;33m]\u001b[0m \u001b[1;33m=\u001b[0m \u001b[0mreview\u001b[0m\u001b[1;33m[\u001b[0m\u001b[1;34m'loc'\u001b[0m\u001b[1;33m]\u001b[0m\u001b[1;33m[\u001b[0m\u001b[0mreview\u001b[0m\u001b[1;33m[\u001b[0m\u001b[1;34m'neighbourhood'\u001b[0m\u001b[1;33m]\u001b[0m \u001b[1;33m==\u001b[0m \u001b[0mn\u001b[0m \u001b[1;33m]\u001b[0m\u001b[1;33m.\u001b[0m\u001b[0mapply\u001b[0m\u001b[1;33m(\u001b[0m\u001b[0mcluster_num\u001b[0m\u001b[1;33m,\u001b[0m\u001b[0margs\u001b[0m\u001b[1;33m=\u001b[0m\u001b[1;33m(\u001b[0m\u001b[0mkmean\u001b[0m\u001b[1;33m,\u001b[0m\u001b[1;33m)\u001b[0m\u001b[1;33m)\u001b[0m\u001b[1;33m\u001b[0m\u001b[1;33m\u001b[0m\u001b[0m\n\u001b[0;32m      9\u001b[0m \u001b[0mreview\u001b[0m\u001b[1;33m[\u001b[0m\u001b[0mreview\u001b[0m\u001b[1;33m[\u001b[0m\u001b[1;34m'neighbourhood'\u001b[0m\u001b[1;33m]\u001b[0m \u001b[1;33m==\u001b[0m \u001b[1;34m'Wan Chai'\u001b[0m\u001b[1;33m]\u001b[0m\u001b[1;33m.\u001b[0m\u001b[0msample\u001b[0m\u001b[1;33m(\u001b[0m\u001b[1;36m20\u001b[0m\u001b[1;33m)\u001b[0m\u001b[1;33m\u001b[0m\u001b[1;33m\u001b[0m\u001b[0m\n\u001b[1;32m---> 10\u001b[1;33m \u001b[0mreview\u001b[0m\u001b[1;33m[\u001b[0m\u001b[1;34m'area'\u001b[0m\u001b[1;33m]\u001b[0m \u001b[1;33m=\u001b[0m \u001b[0mreview\u001b[0m\u001b[1;33m[\u001b[0m\u001b[1;34m'neighbourhood'\u001b[0m\u001b[1;33m]\u001b[0m \u001b[1;33m+\u001b[0m \u001b[0mreview\u001b[0m\u001b[1;33m[\u001b[0m\u001b[1;34m'cluster'\u001b[0m\u001b[1;33m]\u001b[0m\u001b[1;33m\u001b[0m\u001b[1;33m\u001b[0m\u001b[0m\n\u001b[0m",
      "\u001b[1;32m~\\Anaconda3\\lib\\site-packages\\pandas\\core\\ops.py\u001b[0m in \u001b[0;36mwrapper\u001b[1;34m(left, right)\u001b[0m\n\u001b[0;32m   1067\u001b[0m             \u001b[0mrvalues\u001b[0m \u001b[1;33m=\u001b[0m \u001b[0mrvalues\u001b[0m\u001b[1;33m.\u001b[0m\u001b[0mvalues\u001b[0m\u001b[1;33m\u001b[0m\u001b[1;33m\u001b[0m\u001b[0m\n\u001b[0;32m   1068\u001b[0m \u001b[1;33m\u001b[0m\u001b[0m\n\u001b[1;32m-> 1069\u001b[1;33m         \u001b[0mresult\u001b[0m \u001b[1;33m=\u001b[0m \u001b[0msafe_na_op\u001b[0m\u001b[1;33m(\u001b[0m\u001b[0mlvalues\u001b[0m\u001b[1;33m,\u001b[0m \u001b[0mrvalues\u001b[0m\u001b[1;33m)\u001b[0m\u001b[1;33m\u001b[0m\u001b[1;33m\u001b[0m\u001b[0m\n\u001b[0m\u001b[0;32m   1070\u001b[0m         return construct_result(left, result,\n\u001b[0;32m   1071\u001b[0m                                 index=left.index, name=res_name, dtype=None)\n",
      "\u001b[1;32m~\\Anaconda3\\lib\\site-packages\\pandas\\core\\ops.py\u001b[0m in \u001b[0;36msafe_na_op\u001b[1;34m(lvalues, rvalues)\u001b[0m\n\u001b[0;32m   1035\u001b[0m             \u001b[1;32mif\u001b[0m \u001b[0mis_object_dtype\u001b[0m\u001b[1;33m(\u001b[0m\u001b[0mlvalues\u001b[0m\u001b[1;33m)\u001b[0m\u001b[1;33m:\u001b[0m\u001b[1;33m\u001b[0m\u001b[1;33m\u001b[0m\u001b[0m\n\u001b[0;32m   1036\u001b[0m                 return libalgos.arrmap_object(lvalues,\n\u001b[1;32m-> 1037\u001b[1;33m                                               lambda x: op(x, rvalues))\n\u001b[0m\u001b[0;32m   1038\u001b[0m             \u001b[1;32mraise\u001b[0m\u001b[1;33m\u001b[0m\u001b[1;33m\u001b[0m\u001b[0m\n\u001b[0;32m   1039\u001b[0m \u001b[1;33m\u001b[0m\u001b[0m\n",
      "\u001b[1;32mpandas\\_libs\\algos_common_helper.pxi\u001b[0m in \u001b[0;36mpandas._libs.algos.arrmap_object\u001b[1;34m()\u001b[0m\n",
      "\u001b[1;32m~\\Anaconda3\\lib\\site-packages\\pandas\\core\\ops.py\u001b[0m in \u001b[0;36m<lambda>\u001b[1;34m(x)\u001b[0m\n\u001b[0;32m   1035\u001b[0m             \u001b[1;32mif\u001b[0m \u001b[0mis_object_dtype\u001b[0m\u001b[1;33m(\u001b[0m\u001b[0mlvalues\u001b[0m\u001b[1;33m)\u001b[0m\u001b[1;33m:\u001b[0m\u001b[1;33m\u001b[0m\u001b[1;33m\u001b[0m\u001b[0m\n\u001b[0;32m   1036\u001b[0m                 return libalgos.arrmap_object(lvalues,\n\u001b[1;32m-> 1037\u001b[1;33m                                               lambda x: op(x, rvalues))\n\u001b[0m\u001b[0;32m   1038\u001b[0m             \u001b[1;32mraise\u001b[0m\u001b[1;33m\u001b[0m\u001b[1;33m\u001b[0m\u001b[0m\n\u001b[0;32m   1039\u001b[0m \u001b[1;33m\u001b[0m\u001b[0m\n",
      "\u001b[1;31mTypeError\u001b[0m: ufunc 'add' did not contain a loop with signature matching types dtype('<U21') dtype('<U21') dtype('<U21')"
     ]
    },
    {
     "data": {
      "text/plain": [
       "<Figure size 864x720 with 0 Axes>"
      ]
     },
     "metadata": {},
     "output_type": "display_data"
    },
    {
     "data": {
      "image/png": "[encoded data removed]",
      "text/plain": [
       "<Figure size 432x288 with 1 Axes>"
      ]
     },
     "metadata": {
      "needs_background": "light"
     },
     "output_type": "display_data"
    },
    {
     "data": {
      "image/png": "[encoded data removed]",
      "text/plain": [
       "<Figure size 432x288 with 1 Axes>"
      ]
     },
     "metadata": {
      "needs_background": "light"
     },
     "output_type": "display_data"
    },
    {
     "data": {
      "image/png": "[encoded data removed]",
      "text/plain": [
       "<Figure size 432x288 with 1 Axes>"
      ]
     },
     "metadata": {
      "needs_background": "light"
     },
     "output_type": "display_data"
    }
   ],
   "source": [
    "review['cluster'] = [-1] * review.shape[0]\n",
    "print(review.columns)\n",
    "cluster = 6\n",
    "for i,n in enumerate(['Yau Tsim Mong','Central & Western','Wan Chai']):\n",
    "    X = review['loc'][review['neighbourhood'] == n ].values\n",
    "    X = [[x[0],x[1]] for x in X]\n",
    "    kmean = build_kmean(cluster,X,10+i)\n",
    "    review['cluster'][review['neighbourhood'] == n ] = review['loc'][review['neighbourhood'] == n ].apply(cluster_num,args=(kmean,))\n",
    "review[review['neighbourhood'] == 'Wan Chai'].sample(20)"
   ]
  },
  {
   "cell_type": "markdown",
   "metadata": {},
   "source": [
    "## Calendar.csv\n"
   ]
  },
  {
   "cell_type": "code",
   "execution_count": 13,
   "metadata": {},
   "outputs": [
    {
     "data": {
      "text/html": [
       "<div>\n",
       "<style scoped>\n",
       "    .dataframe tbody tr th:only-of-type {\n",
       "        vertical-align: middle;\n",
       "    }\n",
       "\n",
       "    .dataframe tbody tr th {\n",
       "        vertical-align: top;\n",
       "    }\n",
       "\n",
       "    .dataframe thead th {\n",
       "        text-align: right;\n",
       "    }\n",
       "</style>\n",
       "<table border=\"1\" class=\"dataframe\">\n",
       "  <thead>\n",
       "    <tr style=\"text-align: right;\">\n",
       "      <th></th>\n",
       "      <th>listing_id</th>\n",
       "      <th>date</th>\n",
       "      <th>available</th>\n",
       "      <th>price</th>\n",
       "      <th>adjusted_price</th>\n",
       "      <th>minimum_nights</th>\n",
       "      <th>maximum_nights</th>\n",
       "      <th>1</th>\n",
       "    </tr>\n",
       "  </thead>\n",
       "  <tbody>\n",
       "    <tr>\n",
       "      <th>0</th>\n",
       "      <td>69074</td>\n",
       "      <td>2019-09-20</td>\n",
       "      <td>f</td>\n",
       "      <td>$1,104.00</td>\n",
       "      <td>$1,104.00</td>\n",
       "      <td>3</td>\n",
       "      <td>365</td>\n",
       "      <td>1</td>\n",
       "    </tr>\n",
       "    <tr>\n",
       "      <th>1</th>\n",
       "      <td>69074</td>\n",
       "      <td>2019-09-21</td>\n",
       "      <td>f</td>\n",
       "      <td>$1,104.00</td>\n",
       "      <td>$1,104.00</td>\n",
       "      <td>3</td>\n",
       "      <td>365</td>\n",
       "      <td>1</td>\n",
       "    </tr>\n",
       "    <tr>\n",
       "      <th>2</th>\n",
       "      <td>69074</td>\n",
       "      <td>2019-09-22</td>\n",
       "      <td>f</td>\n",
       "      <td>$1,065.00</td>\n",
       "      <td>$1,065.00</td>\n",
       "      <td>3</td>\n",
       "      <td>365</td>\n",
       "      <td>1</td>\n",
       "    </tr>\n",
       "    <tr>\n",
       "      <th>3</th>\n",
       "      <td>69074</td>\n",
       "      <td>2019-09-23</td>\n",
       "      <td>f</td>\n",
       "      <td>$1,073.00</td>\n",
       "      <td>$1,073.00</td>\n",
       "      <td>3</td>\n",
       "      <td>365</td>\n",
       "      <td>1</td>\n",
       "    </tr>\n",
       "    <tr>\n",
       "      <th>4</th>\n",
       "      <td>69074</td>\n",
       "      <td>2019-09-24</td>\n",
       "      <td>f</td>\n",
       "      <td>$1,300.00</td>\n",
       "      <td>$1,300.00</td>\n",
       "      <td>3</td>\n",
       "      <td>365</td>\n",
       "      <td>1</td>\n",
       "    </tr>\n",
       "  </tbody>\n",
       "</table>\n",
       "</div>"
      ],
      "text/plain": [
       "   listing_id        date available      price adjusted_price  minimum_nights  \\\n",
       "0       69074  2019-09-20         f  $1,104.00      $1,104.00               3   \n",
       "1       69074  2019-09-21         f  $1,104.00      $1,104.00               3   \n",
       "2       69074  2019-09-22         f  $1,065.00      $1,065.00               3   \n",
       "3       69074  2019-09-23         f  $1,073.00      $1,073.00               3   \n",
       "4       69074  2019-09-24         f  $1,300.00      $1,300.00               3   \n",
       "\n",
       "   maximum_nights  1  \n",
       "0             365  1  \n",
       "1             365  1  \n",
       "2             365  1  \n",
       "3             365  1  \n",
       "4             365  1  "
      ]
     },
     "execution_count": 13,
     "metadata": {},
     "output_type": "execute_result"
    }
   ],
   "source": [
    "cal = pd.read_csv('./Data/calendar.csv')\n",
    "cal['1'] = 1\n",
    "cal.head(5)"
   ]
  },
  {
   "cell_type": "code",
   "execution_count": 11,
   "metadata": {},
   "outputs": [
    {
     "data": {
      "text/plain": [
       "Index(['listing_id', 'date', 'available', 'price', 'adjusted_price',\n",
       "       'minimum_nights', 'maximum_nights', '1'],\n",
       "      dtype='object')"
      ]
     },
     "execution_count": 11,
     "metadata": {},
     "output_type": "execute_result"
    }
   ],
   "source": [
    "cal.columns"
   ]
  },
  {
   "cell_type": "code",
   "execution_count": 12,
   "metadata": {},
   "outputs": [
    {
     "data": {
      "text/plain": [
       "(array([ 788.,  646., 1722.,  416., 1054.,  226.,  230.,  518.,  504.,\n",
       "        3468.]),\n",
       " array([  1. ,  37.4,  73.8, 110.2, 146.6, 183. , 219.4, 255.8, 292.2,\n",
       "        328.6, 365. ]),\n",
       " <a list of 10 Patch objects>)"
      ]
     },
     "execution_count": 12,
     "metadata": {},
     "output_type": "execute_result"
    },
    {
     "data": {
      "image/png": "[encoded data removed]",
      "text/plain": [
       "<Figure size 432x288 with 1 Axes>"
      ]
     },
     "metadata": {
      "needs_background": "light"
     },
     "output_type": "display_data"
    }
   ],
   "source": [
    "import matplotlib.pyplot as plt\n",
    "listing_dates = cal[cal['available'] == 't'].groupby('listing_id')['1'].sum().tolist()\n",
    "plt.figure(1)\n",
    "plt.hist(listing_dates)\n"
   ]
  },
  {
   "cell_type": "code",
   "execution_count": null,
   "metadata": {},
   "outputs": [],
   "source": []
  }
 ],
 "metadata": {
  "kernelspec": {
   "display_name": "Python 3",
   "language": "python",
   "name": "python3"
  },
  "language_info": {
   "codemirror_mode": {
    "name": "ipython",
    "version": 3
   },
   "file_extension": ".py",
   "mimetype": "text/x-python",
   "name": "python",
   "nbconvert_exporter": "python",
   "pygments_lexer": "ipython3",
   "version": "3.7.1"
  }
 },
 "nbformat": 4,
 "nbformat_minor": 2
}
